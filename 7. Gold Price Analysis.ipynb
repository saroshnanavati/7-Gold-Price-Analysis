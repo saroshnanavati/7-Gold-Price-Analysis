{
 "cells": [
  {
   "cell_type": "markdown",
   "id": "1e1a2881",
   "metadata": {},
   "source": [
    "# Setting up an analysis of the gold price from 2000 to 2021"
   ]
  },
  {
   "cell_type": "markdown",
   "id": "bf4a0e50",
   "metadata": {},
   "source": [
    "First let's load necessary libraries ..."
   ]
  },
  {
   "cell_type": "markdown",
   "id": "c7bbaa66",
   "metadata": {},
   "source": [
    "The first library that we need to import is pandas, which is a portmanteau of \"panel data\" and is the most popular Python library for working with tabular data.  It is convention to import pandas under the alias pd. "
   ]
  },
  {
   "cell_type": "code",
   "execution_count": 105,
   "id": "c4fafa49",
   "metadata": {},
   "outputs": [],
   "source": [
    "import pandas as pd"
   ]
  },
  {
   "cell_type": "markdown",
   "id": "adce3360",
   "metadata": {},
   "source": [
    "Next, we'll need to import NumPy, which is a popular library for numerical computing. Numpy is known for its NumPy array data structure as well as its useful methods reshape, arange, and append.  It is convention to import NumPy under the alias np. "
   ]
  },
  {
   "cell_type": "code",
   "execution_count": 106,
   "id": "734039fc",
   "metadata": {},
   "outputs": [],
   "source": [
    "import numpy as np"
   ]
  },
  {
   "cell_type": "markdown",
   "id": "7872d3b3",
   "metadata": {},
   "source": [
    "Next, we'll need to import a linear model from sklearn, which is a popular library for statistical analysis including linear regression."
   ]
  },
  {
   "cell_type": "code",
   "execution_count": 107,
   "id": "625e750a",
   "metadata": {},
   "outputs": [],
   "source": [
    "from sklearn import linear_model"
   ]
  },
  {
   "cell_type": "markdown",
   "id": "ad1f006e",
   "metadata": {},
   "source": [
    "Next, we need to import matplotlib, which is Python's most popular library for data visualization.  matplotlib is typically imported under the alias plt. "
   ]
  },
  {
   "cell_type": "code",
   "execution_count": 108,
   "id": "2e859ff0",
   "metadata": {},
   "outputs": [],
   "source": [
    "import matplotlib.pyplot as plt"
   ]
  },
  {
   "cell_type": "markdown",
   "id": "554f3160",
   "metadata": {},
   "source": [
    "The %matplotlib inline statement will cause of of our matplotlib visualizations to embed themselves directly in our Jupyter Notebook, which makes them easier to access and interpret."
   ]
  },
  {
   "cell_type": "code",
   "execution_count": 109,
   "id": "7b4fd567",
   "metadata": {},
   "outputs": [],
   "source": [
    "%matplotlib inline"
   ]
  },
  {
   "cell_type": "markdown",
   "id": "fbcf415e",
   "metadata": {},
   "source": [
    "Lastly, you will want to import seaborn, which is another Python data visualization library that makes it easier to create beautiful visualizations using matplotlib.  You can import seaborn with the alias sns."
   ]
  },
  {
   "cell_type": "code",
   "execution_count": 110,
   "id": "c20d0d47",
   "metadata": {},
   "outputs": [],
   "source": [
    "import seaborn as sns"
   ]
  },
  {
   "cell_type": "markdown",
   "id": "00719878",
   "metadata": {},
   "source": [
    "Finally you can change the style of your seaborn visualization if you like ... \n",
    "ie. setting the style to ‘darkgrid’ the palette attribute that is used to set the color of the bars. It helps to distinguish between chunks of data."
   ]
  },
  {
   "cell_type": "code",
   "execution_count": 111,
   "id": "14edb038",
   "metadata": {},
   "outputs": [],
   "source": [
    "sns.set(style=\"darkgrid\")"
   ]
  },
  {
   "cell_type": "markdown",
   "id": "3c42d2f3",
   "metadata": {},
   "source": [
    "Next install opendatasets into python in order to more easily download the data from Kaggle ..."
   ]
  },
  {
   "cell_type": "code",
   "execution_count": 112,
   "id": "ef345991",
   "metadata": {
    "scrolled": true
   },
   "outputs": [
    {
     "name": "stdout",
     "output_type": "stream",
     "text": [
      "Requirement already satisfied: opendatasets in c:\\programdata\\anaconda3\\lib\\site-packages (0.1.20)\n",
      "Requirement already satisfied: kaggle in c:\\programdata\\anaconda3\\lib\\site-packages (from opendatasets) (1.5.12)\n",
      "Requirement already satisfied: tqdm in c:\\programdata\\anaconda3\\lib\\site-packages (from opendatasets) (4.62.3)\n",
      "Requirement already satisfied: click in c:\\programdata\\anaconda3\\lib\\site-packages (from opendatasets) (8.0.3)\n",
      "Requirement already satisfied: colorama in c:\\programdata\\anaconda3\\lib\\site-packages (from click->opendatasets) (0.4.4)\n",
      "Requirement already satisfied: python-slugify in c:\\programdata\\anaconda3\\lib\\site-packages (from kaggle->opendatasets) (5.0.2)\n",
      "Requirement already satisfied: urllib3 in c:\\programdata\\anaconda3\\lib\\site-packages (from kaggle->opendatasets) (1.26.7)\n",
      "Requirement already satisfied: python-dateutil in c:\\programdata\\anaconda3\\lib\\site-packages (from kaggle->opendatasets) (2.8.2)\n",
      "Requirement already satisfied: six>=1.10 in c:\\programdata\\anaconda3\\lib\\site-packages (from kaggle->opendatasets) (1.16.0)\n",
      "Requirement already satisfied: certifi in c:\\programdata\\anaconda3\\lib\\site-packages (from kaggle->opendatasets) (2021.10.8)\n",
      "Requirement already satisfied: requests in c:\\programdata\\anaconda3\\lib\\site-packages (from kaggle->opendatasets) (2.26.0)\n",
      "Requirement already satisfied: text-unidecode>=1.3 in c:\\programdata\\anaconda3\\lib\\site-packages (from python-slugify->kaggle->opendatasets) (1.3)\n",
      "Requirement already satisfied: idna<4,>=2.5 in c:\\programdata\\anaconda3\\lib\\site-packages (from requests->kaggle->opendatasets) (3.2)\n",
      "Requirement already satisfied: charset-normalizer~=2.0.0 in c:\\programdata\\anaconda3\\lib\\site-packages (from requests->kaggle->opendatasets) (2.0.4)\n"
     ]
    }
   ],
   "source": [
    "!pip install opendatasets"
   ]
  },
  {
   "cell_type": "markdown",
   "id": "3000546e",
   "metadata": {},
   "source": [
    "Now load opendatasets into this notebook ..."
   ]
  },
  {
   "cell_type": "code",
   "execution_count": 113,
   "id": "d1e520ad",
   "metadata": {},
   "outputs": [],
   "source": [
    "import opendatasets as od"
   ]
  },
  {
   "cell_type": "markdown",
   "id": "f2c980f2",
   "metadata": {},
   "source": [
    "Now dowload the dataset from Kaggle, using its url ..."
   ]
  },
  {
   "cell_type": "markdown",
   "id": "a24a6988",
   "metadata": {},
   "source": [
    "On executing the  line below, it will prompt for Kaggle username (saroshnanavati). Kaggle username can be fetched from the Account tab of the My Profile section.\n",
    "\n",
    "On entering the username, it will prompt for Kaggle Key. Again, go to the account tab of the My Profile section and click on Create New API Token. This will download a kaggle.json file.  Open file with text editor and copy and paste key."
   ]
  },
  {
   "cell_type": "code",
   "execution_count": 114,
   "id": "9085ee9b",
   "metadata": {},
   "outputs": [
    {
     "name": "stdout",
     "output_type": "stream",
     "text": [
      "Skipping, found downloaded files in \".\\gold-prices-historical-data\" (use force=True to force download)\n"
     ]
    }
   ],
   "source": [
    "od.download(\"https://www.kaggle.com/komalkhetlani/gold-prices-historical-data\")"
   ]
  },
  {
   "cell_type": "markdown",
   "id": "4f05808e",
   "metadata": {},
   "source": [
    "Good, 100% means we have completed the download to our computer."
   ]
  },
  {
   "cell_type": "markdown",
   "id": "6d276a5a",
   "metadata": {},
   "source": [
    "Now read the dataset into this notebook from its location on the computer hard drive ... using the variable df (ie data frame)."
   ]
  },
  {
   "cell_type": "code",
   "execution_count": 115,
   "id": "ef919db7",
   "metadata": {},
   "outputs": [],
   "source": [
    "df = pd.read_csv('C:\\ProgramData\\Anaconda3\\goldprices.csv')"
   ]
  },
  {
   "cell_type": "markdown",
   "id": "ea608d12",
   "metadata": {},
   "source": [
    "Let's get some basic information about the data set ..."
   ]
  },
  {
   "cell_type": "code",
   "execution_count": 116,
   "id": "57c9b947",
   "metadata": {},
   "outputs": [
    {
     "name": "stdout",
     "output_type": "stream",
     "text": [
      "<class 'pandas.core.frame.DataFrame'>\n",
      "RangeIndex: 5317 entries, 0 to 5316\n",
      "Data columns (total 7 columns):\n",
      " #   Column     Non-Null Count  Dtype  \n",
      "---  ------     --------------  -----  \n",
      " 0   Date       5317 non-null   object \n",
      " 1   Open       5205 non-null   float64\n",
      " 2   High       5205 non-null   float64\n",
      " 3   Low        5205 non-null   float64\n",
      " 4   Close      5205 non-null   float64\n",
      " 5   Adj Close  5205 non-null   float64\n",
      " 6   Volume     5205 non-null   float64\n",
      "dtypes: float64(6), object(1)\n",
      "memory usage: 290.9+ KB\n"
     ]
    }
   ],
   "source": [
    "df.info()"
   ]
  },
  {
   "cell_type": "markdown",
   "id": "bbf33fa4",
   "metadata": {},
   "source": [
    "Let's look at the initial five entries in the dataset and see how they are laid out ..."
   ]
  },
  {
   "cell_type": "code",
   "execution_count": 117,
   "id": "baf09889",
   "metadata": {
    "scrolled": false
   },
   "outputs": [
    {
     "data": {
      "text/html": [
       "<div>\n",
       "<style scoped>\n",
       "    .dataframe tbody tr th:only-of-type {\n",
       "        vertical-align: middle;\n",
       "    }\n",
       "\n",
       "    .dataframe tbody tr th {\n",
       "        vertical-align: top;\n",
       "    }\n",
       "\n",
       "    .dataframe thead th {\n",
       "        text-align: right;\n",
       "    }\n",
       "</style>\n",
       "<table border=\"1\" class=\"dataframe\">\n",
       "  <thead>\n",
       "    <tr style=\"text-align: right;\">\n",
       "      <th></th>\n",
       "      <th>Date</th>\n",
       "      <th>Open</th>\n",
       "      <th>High</th>\n",
       "      <th>Low</th>\n",
       "      <th>Close</th>\n",
       "      <th>Adj Close</th>\n",
       "      <th>Volume</th>\n",
       "    </tr>\n",
       "  </thead>\n",
       "  <tbody>\n",
       "    <tr>\n",
       "      <th>0</th>\n",
       "      <td>2000-08-30</td>\n",
       "      <td>273.899994</td>\n",
       "      <td>273.899994</td>\n",
       "      <td>273.899994</td>\n",
       "      <td>273.899994</td>\n",
       "      <td>273.899994</td>\n",
       "      <td>0.0</td>\n",
       "    </tr>\n",
       "    <tr>\n",
       "      <th>1</th>\n",
       "      <td>2000-08-31</td>\n",
       "      <td>274.799988</td>\n",
       "      <td>278.299988</td>\n",
       "      <td>274.799988</td>\n",
       "      <td>278.299988</td>\n",
       "      <td>278.299988</td>\n",
       "      <td>0.0</td>\n",
       "    </tr>\n",
       "    <tr>\n",
       "      <th>2</th>\n",
       "      <td>2000-09-01</td>\n",
       "      <td>277.000000</td>\n",
       "      <td>277.000000</td>\n",
       "      <td>277.000000</td>\n",
       "      <td>277.000000</td>\n",
       "      <td>277.000000</td>\n",
       "      <td>0.0</td>\n",
       "    </tr>\n",
       "    <tr>\n",
       "      <th>3</th>\n",
       "      <td>2000-09-04</td>\n",
       "      <td>NaN</td>\n",
       "      <td>NaN</td>\n",
       "      <td>NaN</td>\n",
       "      <td>NaN</td>\n",
       "      <td>NaN</td>\n",
       "      <td>NaN</td>\n",
       "    </tr>\n",
       "    <tr>\n",
       "      <th>4</th>\n",
       "      <td>2000-09-05</td>\n",
       "      <td>275.799988</td>\n",
       "      <td>275.799988</td>\n",
       "      <td>275.799988</td>\n",
       "      <td>275.799988</td>\n",
       "      <td>275.799988</td>\n",
       "      <td>2.0</td>\n",
       "    </tr>\n",
       "  </tbody>\n",
       "</table>\n",
       "</div>"
      ],
      "text/plain": [
       "         Date        Open        High         Low       Close   Adj Close  \\\n",
       "0  2000-08-30  273.899994  273.899994  273.899994  273.899994  273.899994   \n",
       "1  2000-08-31  274.799988  278.299988  274.799988  278.299988  278.299988   \n",
       "2  2000-09-01  277.000000  277.000000  277.000000  277.000000  277.000000   \n",
       "3  2000-09-04         NaN         NaN         NaN         NaN         NaN   \n",
       "4  2000-09-05  275.799988  275.799988  275.799988  275.799988  275.799988   \n",
       "\n",
       "   Volume  \n",
       "0     0.0  \n",
       "1     0.0  \n",
       "2     0.0  \n",
       "3     NaN  \n",
       "4     2.0  "
      ]
     },
     "execution_count": 117,
     "metadata": {},
     "output_type": "execute_result"
    }
   ],
   "source": [
    "df.head()"
   ]
  },
  {
   "cell_type": "markdown",
   "id": "8ff0edef",
   "metadata": {},
   "source": [
    "Let's see how it looks at the end of the dataset ..."
   ]
  },
  {
   "cell_type": "code",
   "execution_count": 118,
   "id": "fd663bd9",
   "metadata": {
    "scrolled": true
   },
   "outputs": [
    {
     "data": {
      "text/html": [
       "<div>\n",
       "<style scoped>\n",
       "    .dataframe tbody tr th:only-of-type {\n",
       "        vertical-align: middle;\n",
       "    }\n",
       "\n",
       "    .dataframe tbody tr th {\n",
       "        vertical-align: top;\n",
       "    }\n",
       "\n",
       "    .dataframe thead th {\n",
       "        text-align: right;\n",
       "    }\n",
       "</style>\n",
       "<table border=\"1\" class=\"dataframe\">\n",
       "  <thead>\n",
       "    <tr style=\"text-align: right;\">\n",
       "      <th></th>\n",
       "      <th>Date</th>\n",
       "      <th>Open</th>\n",
       "      <th>High</th>\n",
       "      <th>Low</th>\n",
       "      <th>Close</th>\n",
       "      <th>Adj Close</th>\n",
       "      <th>Volume</th>\n",
       "    </tr>\n",
       "  </thead>\n",
       "  <tbody>\n",
       "    <tr>\n",
       "      <th>5312</th>\n",
       "      <td>2021-07-12</td>\n",
       "      <td>1802.599976</td>\n",
       "      <td>1805.500000</td>\n",
       "      <td>1799.500000</td>\n",
       "      <td>1805.500000</td>\n",
       "      <td>1805.500000</td>\n",
       "      <td>218.0</td>\n",
       "    </tr>\n",
       "    <tr>\n",
       "      <th>5313</th>\n",
       "      <td>2021-07-13</td>\n",
       "      <td>1808.099976</td>\n",
       "      <td>1812.000000</td>\n",
       "      <td>1800.599976</td>\n",
       "      <td>1809.400024</td>\n",
       "      <td>1809.400024</td>\n",
       "      <td>147.0</td>\n",
       "    </tr>\n",
       "    <tr>\n",
       "      <th>5314</th>\n",
       "      <td>2021-07-14</td>\n",
       "      <td>1813.099976</td>\n",
       "      <td>1829.000000</td>\n",
       "      <td>1813.099976</td>\n",
       "      <td>1824.300049</td>\n",
       "      <td>1824.300049</td>\n",
       "      <td>707.0</td>\n",
       "    </tr>\n",
       "    <tr>\n",
       "      <th>5315</th>\n",
       "      <td>2021-07-15</td>\n",
       "      <td>1831.599976</td>\n",
       "      <td>1833.000000</td>\n",
       "      <td>1823.400024</td>\n",
       "      <td>1828.400024</td>\n",
       "      <td>1828.400024</td>\n",
       "      <td>99.0</td>\n",
       "    </tr>\n",
       "    <tr>\n",
       "      <th>5316</th>\n",
       "      <td>2021-07-16</td>\n",
       "      <td>1830.099976</td>\n",
       "      <td>1831.400024</td>\n",
       "      <td>1814.500000</td>\n",
       "      <td>1814.500000</td>\n",
       "      <td>1814.500000</td>\n",
       "      <td>99.0</td>\n",
       "    </tr>\n",
       "  </tbody>\n",
       "</table>\n",
       "</div>"
      ],
      "text/plain": [
       "            Date         Open         High          Low        Close  \\\n",
       "5312  2021-07-12  1802.599976  1805.500000  1799.500000  1805.500000   \n",
       "5313  2021-07-13  1808.099976  1812.000000  1800.599976  1809.400024   \n",
       "5314  2021-07-14  1813.099976  1829.000000  1813.099976  1824.300049   \n",
       "5315  2021-07-15  1831.599976  1833.000000  1823.400024  1828.400024   \n",
       "5316  2021-07-16  1830.099976  1831.400024  1814.500000  1814.500000   \n",
       "\n",
       "        Adj Close  Volume  \n",
       "5312  1805.500000   218.0  \n",
       "5313  1809.400024   147.0  \n",
       "5314  1824.300049   707.0  \n",
       "5315  1828.400024    99.0  \n",
       "5316  1814.500000    99.0  "
      ]
     },
     "execution_count": 118,
     "metadata": {},
     "output_type": "execute_result"
    }
   ],
   "source": [
    "df.tail()"
   ]
  },
  {
   "cell_type": "markdown",
   "id": "9859a230",
   "metadata": {},
   "source": [
    "Ok, we can see that this is a time series, so let's read the data in again but this time setting the date column as the primary index (necessary for time series analysis)."
   ]
  },
  {
   "cell_type": "code",
   "execution_count": 119,
   "id": "21a618d1",
   "metadata": {},
   "outputs": [],
   "source": [
    "df = pd.read_csv('C:\\ProgramData\\Anaconda3\\goldprices.csv',parse_dates=True,index_col=0)"
   ]
  },
  {
   "cell_type": "markdown",
   "id": "50277c3d",
   "metadata": {},
   "source": [
    "Ok, now let's look at the data again ..."
   ]
  },
  {
   "cell_type": "code",
   "execution_count": 120,
   "id": "b4ce245a",
   "metadata": {},
   "outputs": [
    {
     "data": {
      "text/html": [
       "<div>\n",
       "<style scoped>\n",
       "    .dataframe tbody tr th:only-of-type {\n",
       "        vertical-align: middle;\n",
       "    }\n",
       "\n",
       "    .dataframe tbody tr th {\n",
       "        vertical-align: top;\n",
       "    }\n",
       "\n",
       "    .dataframe thead th {\n",
       "        text-align: right;\n",
       "    }\n",
       "</style>\n",
       "<table border=\"1\" class=\"dataframe\">\n",
       "  <thead>\n",
       "    <tr style=\"text-align: right;\">\n",
       "      <th></th>\n",
       "      <th>Open</th>\n",
       "      <th>High</th>\n",
       "      <th>Low</th>\n",
       "      <th>Close</th>\n",
       "      <th>Adj Close</th>\n",
       "      <th>Volume</th>\n",
       "    </tr>\n",
       "    <tr>\n",
       "      <th>Date</th>\n",
       "      <th></th>\n",
       "      <th></th>\n",
       "      <th></th>\n",
       "      <th></th>\n",
       "      <th></th>\n",
       "      <th></th>\n",
       "    </tr>\n",
       "  </thead>\n",
       "  <tbody>\n",
       "    <tr>\n",
       "      <th>2000-08-30</th>\n",
       "      <td>273.899994</td>\n",
       "      <td>273.899994</td>\n",
       "      <td>273.899994</td>\n",
       "      <td>273.899994</td>\n",
       "      <td>273.899994</td>\n",
       "      <td>0.0</td>\n",
       "    </tr>\n",
       "    <tr>\n",
       "      <th>2000-08-31</th>\n",
       "      <td>274.799988</td>\n",
       "      <td>278.299988</td>\n",
       "      <td>274.799988</td>\n",
       "      <td>278.299988</td>\n",
       "      <td>278.299988</td>\n",
       "      <td>0.0</td>\n",
       "    </tr>\n",
       "    <tr>\n",
       "      <th>2000-09-01</th>\n",
       "      <td>277.000000</td>\n",
       "      <td>277.000000</td>\n",
       "      <td>277.000000</td>\n",
       "      <td>277.000000</td>\n",
       "      <td>277.000000</td>\n",
       "      <td>0.0</td>\n",
       "    </tr>\n",
       "    <tr>\n",
       "      <th>2000-09-04</th>\n",
       "      <td>NaN</td>\n",
       "      <td>NaN</td>\n",
       "      <td>NaN</td>\n",
       "      <td>NaN</td>\n",
       "      <td>NaN</td>\n",
       "      <td>NaN</td>\n",
       "    </tr>\n",
       "    <tr>\n",
       "      <th>2000-09-05</th>\n",
       "      <td>275.799988</td>\n",
       "      <td>275.799988</td>\n",
       "      <td>275.799988</td>\n",
       "      <td>275.799988</td>\n",
       "      <td>275.799988</td>\n",
       "      <td>2.0</td>\n",
       "    </tr>\n",
       "  </tbody>\n",
       "</table>\n",
       "</div>"
      ],
      "text/plain": [
       "                  Open        High         Low       Close   Adj Close  Volume\n",
       "Date                                                                          \n",
       "2000-08-30  273.899994  273.899994  273.899994  273.899994  273.899994     0.0\n",
       "2000-08-31  274.799988  278.299988  274.799988  278.299988  278.299988     0.0\n",
       "2000-09-01  277.000000  277.000000  277.000000  277.000000  277.000000     0.0\n",
       "2000-09-04         NaN         NaN         NaN         NaN         NaN     NaN\n",
       "2000-09-05  275.799988  275.799988  275.799988  275.799988  275.799988     2.0"
      ]
     },
     "execution_count": 120,
     "metadata": {},
     "output_type": "execute_result"
    }
   ],
   "source": [
    "df.head()"
   ]
  },
  {
   "cell_type": "markdown",
   "id": "a62db4aa",
   "metadata": {},
   "source": [
    "Let's rename the headings, making sure that the number of new names matches the number of columns of data (excluding the index column)."
   ]
  },
  {
   "cell_type": "code",
   "execution_count": 121,
   "id": "fbbb0f0e",
   "metadata": {},
   "outputs": [],
   "source": [
    "df.columns=['open_gold','high_gold','low_gold','close_gold','adj_close_gold','vol_gold'] "
   ]
  },
  {
   "cell_type": "code",
   "execution_count": 122,
   "id": "7b117753",
   "metadata": {},
   "outputs": [
    {
     "data": {
      "text/html": [
       "<div>\n",
       "<style scoped>\n",
       "    .dataframe tbody tr th:only-of-type {\n",
       "        vertical-align: middle;\n",
       "    }\n",
       "\n",
       "    .dataframe tbody tr th {\n",
       "        vertical-align: top;\n",
       "    }\n",
       "\n",
       "    .dataframe thead th {\n",
       "        text-align: right;\n",
       "    }\n",
       "</style>\n",
       "<table border=\"1\" class=\"dataframe\">\n",
       "  <thead>\n",
       "    <tr style=\"text-align: right;\">\n",
       "      <th></th>\n",
       "      <th>open_gold</th>\n",
       "      <th>high_gold</th>\n",
       "      <th>low_gold</th>\n",
       "      <th>close_gold</th>\n",
       "      <th>adj_close_gold</th>\n",
       "      <th>vol_gold</th>\n",
       "    </tr>\n",
       "    <tr>\n",
       "      <th>Date</th>\n",
       "      <th></th>\n",
       "      <th></th>\n",
       "      <th></th>\n",
       "      <th></th>\n",
       "      <th></th>\n",
       "      <th></th>\n",
       "    </tr>\n",
       "  </thead>\n",
       "  <tbody>\n",
       "    <tr>\n",
       "      <th>2000-08-30</th>\n",
       "      <td>273.899994</td>\n",
       "      <td>273.899994</td>\n",
       "      <td>273.899994</td>\n",
       "      <td>273.899994</td>\n",
       "      <td>273.899994</td>\n",
       "      <td>0.0</td>\n",
       "    </tr>\n",
       "    <tr>\n",
       "      <th>2000-08-31</th>\n",
       "      <td>274.799988</td>\n",
       "      <td>278.299988</td>\n",
       "      <td>274.799988</td>\n",
       "      <td>278.299988</td>\n",
       "      <td>278.299988</td>\n",
       "      <td>0.0</td>\n",
       "    </tr>\n",
       "    <tr>\n",
       "      <th>2000-09-01</th>\n",
       "      <td>277.000000</td>\n",
       "      <td>277.000000</td>\n",
       "      <td>277.000000</td>\n",
       "      <td>277.000000</td>\n",
       "      <td>277.000000</td>\n",
       "      <td>0.0</td>\n",
       "    </tr>\n",
       "    <tr>\n",
       "      <th>2000-09-04</th>\n",
       "      <td>NaN</td>\n",
       "      <td>NaN</td>\n",
       "      <td>NaN</td>\n",
       "      <td>NaN</td>\n",
       "      <td>NaN</td>\n",
       "      <td>NaN</td>\n",
       "    </tr>\n",
       "    <tr>\n",
       "      <th>2000-09-05</th>\n",
       "      <td>275.799988</td>\n",
       "      <td>275.799988</td>\n",
       "      <td>275.799988</td>\n",
       "      <td>275.799988</td>\n",
       "      <td>275.799988</td>\n",
       "      <td>2.0</td>\n",
       "    </tr>\n",
       "  </tbody>\n",
       "</table>\n",
       "</div>"
      ],
      "text/plain": [
       "             open_gold   high_gold    low_gold  close_gold  adj_close_gold  \\\n",
       "Date                                                                         \n",
       "2000-08-30  273.899994  273.899994  273.899994  273.899994      273.899994   \n",
       "2000-08-31  274.799988  278.299988  274.799988  278.299988      278.299988   \n",
       "2000-09-01  277.000000  277.000000  277.000000  277.000000      277.000000   \n",
       "2000-09-04         NaN         NaN         NaN         NaN             NaN   \n",
       "2000-09-05  275.799988  275.799988  275.799988  275.799988      275.799988   \n",
       "\n",
       "            vol_gold  \n",
       "Date                  \n",
       "2000-08-30       0.0  \n",
       "2000-08-31       0.0  \n",
       "2000-09-01       0.0  \n",
       "2000-09-04       NaN  \n",
       "2000-09-05       2.0  "
      ]
     },
     "execution_count": 122,
     "metadata": {},
     "output_type": "execute_result"
    }
   ],
   "source": [
    "df.head()"
   ]
  },
  {
   "cell_type": "markdown",
   "id": "9cb772c5",
   "metadata": {},
   "source": [
    "Good.  Notice the index column Date is below the other column headings. "
   ]
  },
  {
   "cell_type": "markdown",
   "id": "85cb85aa",
   "metadata": {},
   "source": [
    "What is the length of the dataset?"
   ]
  },
  {
   "cell_type": "code",
   "execution_count": 123,
   "id": "2f6096a3",
   "metadata": {},
   "outputs": [
    {
     "data": {
      "text/plain": [
       "5317"
      ]
     },
     "execution_count": 123,
     "metadata": {},
     "output_type": "execute_result"
    }
   ],
   "source": [
    "len(df)"
   ]
  },
  {
   "cell_type": "markdown",
   "id": "0f792d0b",
   "metadata": {},
   "source": [
    "Now let's start to check the quality of the dataset."
   ]
  },
  {
   "cell_type": "markdown",
   "id": "1fca13d9",
   "metadata": {},
   "source": [
    "What are the datatypes for the various columns?"
   ]
  },
  {
   "cell_type": "code",
   "execution_count": 124,
   "id": "abc8d4b4",
   "metadata": {
    "scrolled": true
   },
   "outputs": [
    {
     "data": {
      "text/plain": [
       "open_gold         float64\n",
       "high_gold         float64\n",
       "low_gold          float64\n",
       "close_gold        float64\n",
       "adj_close_gold    float64\n",
       "vol_gold          float64\n",
       "dtype: object"
      ]
     },
     "execution_count": 124,
     "metadata": {},
     "output_type": "execute_result"
    }
   ],
   "source": [
    "df.dtypes"
   ]
  },
  {
   "cell_type": "markdown",
   "id": "f6ca34da",
   "metadata": {},
   "source": [
    "Note if we did not read the data in as a time series, we could have changed the Date column data type to datetime like this:"
   ]
  },
  {
   "cell_type": "markdown",
   "id": "8bed2726",
   "metadata": {},
   "source": [
    "df['Date']= pd.to_datetime(df['Date'])"
   ]
  },
  {
   "cell_type": "markdown",
   "id": "090be5c8",
   "metadata": {},
   "source": [
    "Let's look at the data file again - notice the index column Date is below the other column headings."
   ]
  },
  {
   "cell_type": "code",
   "execution_count": 125,
   "id": "b7aad482",
   "metadata": {
    "scrolled": true
   },
   "outputs": [
    {
     "data": {
      "text/html": [
       "<div>\n",
       "<style scoped>\n",
       "    .dataframe tbody tr th:only-of-type {\n",
       "        vertical-align: middle;\n",
       "    }\n",
       "\n",
       "    .dataframe tbody tr th {\n",
       "        vertical-align: top;\n",
       "    }\n",
       "\n",
       "    .dataframe thead th {\n",
       "        text-align: right;\n",
       "    }\n",
       "</style>\n",
       "<table border=\"1\" class=\"dataframe\">\n",
       "  <thead>\n",
       "    <tr style=\"text-align: right;\">\n",
       "      <th></th>\n",
       "      <th>open_gold</th>\n",
       "      <th>high_gold</th>\n",
       "      <th>low_gold</th>\n",
       "      <th>close_gold</th>\n",
       "      <th>adj_close_gold</th>\n",
       "      <th>vol_gold</th>\n",
       "    </tr>\n",
       "    <tr>\n",
       "      <th>Date</th>\n",
       "      <th></th>\n",
       "      <th></th>\n",
       "      <th></th>\n",
       "      <th></th>\n",
       "      <th></th>\n",
       "      <th></th>\n",
       "    </tr>\n",
       "  </thead>\n",
       "  <tbody>\n",
       "    <tr>\n",
       "      <th>2000-08-30</th>\n",
       "      <td>273.899994</td>\n",
       "      <td>273.899994</td>\n",
       "      <td>273.899994</td>\n",
       "      <td>273.899994</td>\n",
       "      <td>273.899994</td>\n",
       "      <td>0.0</td>\n",
       "    </tr>\n",
       "    <tr>\n",
       "      <th>2000-08-31</th>\n",
       "      <td>274.799988</td>\n",
       "      <td>278.299988</td>\n",
       "      <td>274.799988</td>\n",
       "      <td>278.299988</td>\n",
       "      <td>278.299988</td>\n",
       "      <td>0.0</td>\n",
       "    </tr>\n",
       "    <tr>\n",
       "      <th>2000-09-01</th>\n",
       "      <td>277.000000</td>\n",
       "      <td>277.000000</td>\n",
       "      <td>277.000000</td>\n",
       "      <td>277.000000</td>\n",
       "      <td>277.000000</td>\n",
       "      <td>0.0</td>\n",
       "    </tr>\n",
       "    <tr>\n",
       "      <th>2000-09-04</th>\n",
       "      <td>NaN</td>\n",
       "      <td>NaN</td>\n",
       "      <td>NaN</td>\n",
       "      <td>NaN</td>\n",
       "      <td>NaN</td>\n",
       "      <td>NaN</td>\n",
       "    </tr>\n",
       "    <tr>\n",
       "      <th>2000-09-05</th>\n",
       "      <td>275.799988</td>\n",
       "      <td>275.799988</td>\n",
       "      <td>275.799988</td>\n",
       "      <td>275.799988</td>\n",
       "      <td>275.799988</td>\n",
       "      <td>2.0</td>\n",
       "    </tr>\n",
       "  </tbody>\n",
       "</table>\n",
       "</div>"
      ],
      "text/plain": [
       "             open_gold   high_gold    low_gold  close_gold  adj_close_gold  \\\n",
       "Date                                                                         \n",
       "2000-08-30  273.899994  273.899994  273.899994  273.899994      273.899994   \n",
       "2000-08-31  274.799988  278.299988  274.799988  278.299988      278.299988   \n",
       "2000-09-01  277.000000  277.000000  277.000000  277.000000      277.000000   \n",
       "2000-09-04         NaN         NaN         NaN         NaN             NaN   \n",
       "2000-09-05  275.799988  275.799988  275.799988  275.799988      275.799988   \n",
       "\n",
       "            vol_gold  \n",
       "Date                  \n",
       "2000-08-30       0.0  \n",
       "2000-08-31       0.0  \n",
       "2000-09-01       0.0  \n",
       "2000-09-04       NaN  \n",
       "2000-09-05       2.0  "
      ]
     },
     "execution_count": 125,
     "metadata": {},
     "output_type": "execute_result"
    }
   ],
   "source": [
    "df.head()"
   ]
  },
  {
   "cell_type": "markdown",
   "id": "51975de0",
   "metadata": {},
   "source": [
    "Now let's round the data in the various price columns to 2 decimals ..."
   ]
  },
  {
   "cell_type": "code",
   "execution_count": 126,
   "id": "37540af6",
   "metadata": {},
   "outputs": [
    {
     "data": {
      "text/plain": [
       "Date\n",
       "2000-08-30     273.9\n",
       "2000-08-31     274.8\n",
       "2000-09-01     277.0\n",
       "2000-09-04       NaN\n",
       "2000-09-05     275.8\n",
       "               ...  \n",
       "2021-07-12    1802.6\n",
       "2021-07-13    1808.1\n",
       "2021-07-14    1813.1\n",
       "2021-07-15    1831.6\n",
       "2021-07-16    1830.1\n",
       "Name: open_gold, Length: 5317, dtype: float64"
      ]
     },
     "execution_count": 126,
     "metadata": {},
     "output_type": "execute_result"
    }
   ],
   "source": [
    "np.round(df['open_gold'], decimals = 2)"
   ]
  },
  {
   "cell_type": "code",
   "execution_count": 127,
   "id": "2c909485",
   "metadata": {
    "scrolled": true
   },
   "outputs": [
    {
     "data": {
      "text/plain": [
       "Date\n",
       "2000-08-30     273.9\n",
       "2000-08-31     278.3\n",
       "2000-09-01     277.0\n",
       "2000-09-04       NaN\n",
       "2000-09-05     275.8\n",
       "               ...  \n",
       "2021-07-12    1805.5\n",
       "2021-07-13    1812.0\n",
       "2021-07-14    1829.0\n",
       "2021-07-15    1833.0\n",
       "2021-07-16    1831.4\n",
       "Name: high_gold, Length: 5317, dtype: float64"
      ]
     },
     "execution_count": 127,
     "metadata": {},
     "output_type": "execute_result"
    }
   ],
   "source": [
    "np.round(df['high_gold'], decimals = 2)"
   ]
  },
  {
   "cell_type": "code",
   "execution_count": 128,
   "id": "eb1eeb07",
   "metadata": {},
   "outputs": [
    {
     "data": {
      "text/plain": [
       "Date\n",
       "2000-08-30     273.9\n",
       "2000-08-31     274.8\n",
       "2000-09-01     277.0\n",
       "2000-09-04       NaN\n",
       "2000-09-05     275.8\n",
       "               ...  \n",
       "2021-07-12    1799.5\n",
       "2021-07-13    1800.6\n",
       "2021-07-14    1813.1\n",
       "2021-07-15    1823.4\n",
       "2021-07-16    1814.5\n",
       "Name: low_gold, Length: 5317, dtype: float64"
      ]
     },
     "execution_count": 128,
     "metadata": {},
     "output_type": "execute_result"
    }
   ],
   "source": [
    "np.round(df['low_gold'], decimals = 2)"
   ]
  },
  {
   "cell_type": "code",
   "execution_count": 129,
   "id": "564c7da7",
   "metadata": {},
   "outputs": [
    {
     "data": {
      "text/plain": [
       "Date\n",
       "2000-08-30     273.9\n",
       "2000-08-31     278.3\n",
       "2000-09-01     277.0\n",
       "2000-09-04       NaN\n",
       "2000-09-05     275.8\n",
       "               ...  \n",
       "2021-07-12    1805.5\n",
       "2021-07-13    1809.4\n",
       "2021-07-14    1824.3\n",
       "2021-07-15    1828.4\n",
       "2021-07-16    1814.5\n",
       "Name: close_gold, Length: 5317, dtype: float64"
      ]
     },
     "execution_count": 129,
     "metadata": {},
     "output_type": "execute_result"
    }
   ],
   "source": [
    "np.round(df['close_gold'], decimals = 2)"
   ]
  },
  {
   "cell_type": "code",
   "execution_count": 130,
   "id": "9c3e76c7",
   "metadata": {
    "scrolled": true
   },
   "outputs": [
    {
     "data": {
      "text/plain": [
       "Date\n",
       "2000-08-30     273.9\n",
       "2000-08-31     278.3\n",
       "2000-09-01     277.0\n",
       "2000-09-04       NaN\n",
       "2000-09-05     275.8\n",
       "               ...  \n",
       "2021-07-12    1805.5\n",
       "2021-07-13    1809.4\n",
       "2021-07-14    1824.3\n",
       "2021-07-15    1828.4\n",
       "2021-07-16    1814.5\n",
       "Name: adj_close_gold, Length: 5317, dtype: float64"
      ]
     },
     "execution_count": 130,
     "metadata": {},
     "output_type": "execute_result"
    }
   ],
   "source": [
    "np.round(df['adj_close_gold'], decimals = 2)"
   ]
  },
  {
   "cell_type": "markdown",
   "id": "dca99d7a",
   "metadata": {},
   "source": [
    "That looks better.  Let's continue cleaning up the data.  Are we missing any values?"
   ]
  },
  {
   "cell_type": "markdown",
   "id": "db0eb24e",
   "metadata": {},
   "source": [
    "We can check if any values in the data are null ... "
   ]
  },
  {
   "cell_type": "code",
   "execution_count": 131,
   "id": "d2b34636",
   "metadata": {},
   "outputs": [
    {
     "data": {
      "text/plain": [
       "True"
      ]
     },
     "execution_count": 131,
     "metadata": {},
     "output_type": "execute_result"
    }
   ],
   "source": [
    "df.isnull().values.any()"
   ]
  },
  {
   "cell_type": "markdown",
   "id": "3d0f705d",
   "metadata": {},
   "source": [
    "OK, so there are some null values in this data.  \n",
    "But how many are there in each column?"
   ]
  },
  {
   "cell_type": "code",
   "execution_count": 132,
   "id": "683e5d2b",
   "metadata": {
    "scrolled": true
   },
   "outputs": [
    {
     "data": {
      "text/plain": [
       "open_gold         112\n",
       "high_gold         112\n",
       "low_gold          112\n",
       "close_gold        112\n",
       "adj_close_gold    112\n",
       "vol_gold          112\n",
       "dtype: int64"
      ]
     },
     "execution_count": 132,
     "metadata": {},
     "output_type": "execute_result"
    }
   ],
   "source": [
    "df.isnull().sum()"
   ]
  },
  {
   "cell_type": "markdown",
   "id": "b73a29be",
   "metadata": {},
   "source": [
    "Looks like there are 112 entries in our data fram which have no data.  For the total we could add them up, but we can also try this ..."
   ]
  },
  {
   "cell_type": "code",
   "execution_count": 133,
   "id": "1795841c",
   "metadata": {},
   "outputs": [
    {
     "data": {
      "text/plain": [
       "672"
      ]
     },
     "execution_count": 133,
     "metadata": {},
     "output_type": "execute_result"
    }
   ],
   "source": [
    "df.isnull().sum().sum()"
   ]
  },
  {
   "cell_type": "markdown",
   "id": "f6cd6675",
   "metadata": {},
   "source": [
    "So it looks like 112 of the 5317 are null data.  That's 2.1% of the data."
   ]
  },
  {
   "cell_type": "markdown",
   "id": "bfff4a81",
   "metadata": {},
   "source": [
    "We need to deal with this in some way.  We could delete the entries which have no data, but then we would be missing some days in our time series.  Interpolation is probably a reasonable approach here, but using method=time. \n",
    "something like ..."
   ]
  },
  {
   "cell_type": "code",
   "execution_count": 134,
   "id": "103da8ad",
   "metadata": {},
   "outputs": [],
   "source": [
    "df_gold = df.interpolate(method=\"time\")"
   ]
  },
  {
   "cell_type": "markdown",
   "id": "d5298bad",
   "metadata": {},
   "source": [
    "So let's look at how the new data frame looks after interpolation ..."
   ]
  },
  {
   "cell_type": "code",
   "execution_count": 135,
   "id": "20952ed5",
   "metadata": {
    "scrolled": true
   },
   "outputs": [
    {
     "data": {
      "text/html": [
       "<div>\n",
       "<style scoped>\n",
       "    .dataframe tbody tr th:only-of-type {\n",
       "        vertical-align: middle;\n",
       "    }\n",
       "\n",
       "    .dataframe tbody tr th {\n",
       "        vertical-align: top;\n",
       "    }\n",
       "\n",
       "    .dataframe thead th {\n",
       "        text-align: right;\n",
       "    }\n",
       "</style>\n",
       "<table border=\"1\" class=\"dataframe\">\n",
       "  <thead>\n",
       "    <tr style=\"text-align: right;\">\n",
       "      <th></th>\n",
       "      <th>open_gold</th>\n",
       "      <th>high_gold</th>\n",
       "      <th>low_gold</th>\n",
       "      <th>close_gold</th>\n",
       "      <th>adj_close_gold</th>\n",
       "      <th>vol_gold</th>\n",
       "    </tr>\n",
       "    <tr>\n",
       "      <th>Date</th>\n",
       "      <th></th>\n",
       "      <th></th>\n",
       "      <th></th>\n",
       "      <th></th>\n",
       "      <th></th>\n",
       "      <th></th>\n",
       "    </tr>\n",
       "  </thead>\n",
       "  <tbody>\n",
       "    <tr>\n",
       "      <th>2000-08-30</th>\n",
       "      <td>273.899994</td>\n",
       "      <td>273.899994</td>\n",
       "      <td>273.899994</td>\n",
       "      <td>273.899994</td>\n",
       "      <td>273.899994</td>\n",
       "      <td>0.0</td>\n",
       "    </tr>\n",
       "    <tr>\n",
       "      <th>2000-08-31</th>\n",
       "      <td>274.799988</td>\n",
       "      <td>278.299988</td>\n",
       "      <td>274.799988</td>\n",
       "      <td>278.299988</td>\n",
       "      <td>278.299988</td>\n",
       "      <td>0.0</td>\n",
       "    </tr>\n",
       "    <tr>\n",
       "      <th>2000-09-01</th>\n",
       "      <td>277.000000</td>\n",
       "      <td>277.000000</td>\n",
       "      <td>277.000000</td>\n",
       "      <td>277.000000</td>\n",
       "      <td>277.000000</td>\n",
       "      <td>0.0</td>\n",
       "    </tr>\n",
       "    <tr>\n",
       "      <th>2000-09-04</th>\n",
       "      <td>276.099991</td>\n",
       "      <td>276.099991</td>\n",
       "      <td>276.099991</td>\n",
       "      <td>276.099991</td>\n",
       "      <td>276.099991</td>\n",
       "      <td>1.5</td>\n",
       "    </tr>\n",
       "    <tr>\n",
       "      <th>2000-09-05</th>\n",
       "      <td>275.799988</td>\n",
       "      <td>275.799988</td>\n",
       "      <td>275.799988</td>\n",
       "      <td>275.799988</td>\n",
       "      <td>275.799988</td>\n",
       "      <td>2.0</td>\n",
       "    </tr>\n",
       "  </tbody>\n",
       "</table>\n",
       "</div>"
      ],
      "text/plain": [
       "             open_gold   high_gold    low_gold  close_gold  adj_close_gold  \\\n",
       "Date                                                                         \n",
       "2000-08-30  273.899994  273.899994  273.899994  273.899994      273.899994   \n",
       "2000-08-31  274.799988  278.299988  274.799988  278.299988      278.299988   \n",
       "2000-09-01  277.000000  277.000000  277.000000  277.000000      277.000000   \n",
       "2000-09-04  276.099991  276.099991  276.099991  276.099991      276.099991   \n",
       "2000-09-05  275.799988  275.799988  275.799988  275.799988      275.799988   \n",
       "\n",
       "            vol_gold  \n",
       "Date                  \n",
       "2000-08-30       0.0  \n",
       "2000-08-31       0.0  \n",
       "2000-09-01       0.0  \n",
       "2000-09-04       1.5  \n",
       "2000-09-05       2.0  "
      ]
     },
     "execution_count": 135,
     "metadata": {},
     "output_type": "execute_result"
    }
   ],
   "source": [
    "df_gold.head()"
   ]
  },
  {
   "cell_type": "markdown",
   "id": "da5a3414",
   "metadata": {},
   "source": [
    "Great, we have estimated values for the missing data.  We have created the new data frame new_df so that the original data with missing values is retained (and if we need to, we can determine which data points were interpolated)."
   ]
  },
  {
   "cell_type": "markdown",
   "id": "d31d63da",
   "metadata": {},
   "source": [
    "Let's see what this data looks like in a chart."
   ]
  },
  {
   "cell_type": "code",
   "execution_count": 136,
   "id": "31b4b9e8",
   "metadata": {
    "scrolled": true
   },
   "outputs": [
    {
     "data": {
      "text/plain": [
       "<AxesSubplot:xlabel='Date'>"
      ]
     },
     "execution_count": 136,
     "metadata": {},
     "output_type": "execute_result"
    },
    {
     "data": {
      "image/png": "[encoded data removed]",
      "text/plain": [
       "<Figure size 432x288 with 1 Axes>"
      ]
     },
     "metadata": {},
     "output_type": "display_data"
    }
   ],
   "source": [
    "df_gold[\"close_gold\"].plot()"
   ]
  },
  {
   "cell_type": "markdown",
   "id": "2093f584",
   "metadata": {},
   "source": [
    "Ok, now let's start pulling in some independant variables for our multiple regression on gold price."
   ]
  },
  {
   "cell_type": "markdown",
   "id": "93947d29",
   "metadata": {},
   "source": [
    "Let's start with the obvious one, the US dollar."
   ]
  },
  {
   "cell_type": "code",
   "execution_count": 137,
   "id": "29cf388e",
   "metadata": {},
   "outputs": [
    {
     "name": "stdout",
     "output_type": "stream",
     "text": [
      "Skipping, found downloaded files in \".\\us-dollar-index-data\" (use force=True to force download)\n"
     ]
    }
   ],
   "source": [
    "od.download(\"https://www.kaggle.com/balabaskar/us-dollar-index-data\")"
   ]
  },
  {
   "cell_type": "markdown",
   "id": "f89000d1",
   "metadata": {},
   "source": [
    "Good, 100% means we have completed the download to our computer."
   ]
  },
  {
   "cell_type": "markdown",
   "id": "4d75955e",
   "metadata": {},
   "source": [
    "Now read the dataset into this notebook from its location on the computer hard drive ... using the variable df_usd (ie data frame for usd)."
   ]
  },
  {
   "cell_type": "code",
   "execution_count": 138,
   "id": "cfd73a1b",
   "metadata": {},
   "outputs": [],
   "source": [
    "df_usd = pd.read_csv('C:\\\\ProgramData\\\\Anaconda3\\\\USDollarIndexHistoricalData.csv')"
   ]
  },
  {
   "cell_type": "markdown",
   "id": "196c7613",
   "metadata": {},
   "source": [
    "Let's get some basic information on this data set ..."
   ]
  },
  {
   "cell_type": "code",
   "execution_count": 139,
   "id": "8fb2e31e",
   "metadata": {},
   "outputs": [
    {
     "name": "stdout",
     "output_type": "stream",
     "text": [
      "<class 'pandas.core.frame.DataFrame'>\n",
      "RangeIndex: 5000 entries, 0 to 4999\n",
      "Data columns (total 6 columns):\n",
      " #   Column    Non-Null Count  Dtype  \n",
      "---  ------    --------------  -----  \n",
      " 0   Date      5000 non-null   object \n",
      " 1   Price     5000 non-null   float64\n",
      " 2   Open      5000 non-null   float64\n",
      " 3   High      5000 non-null   float64\n",
      " 4   Low       5000 non-null   float64\n",
      " 5   Change %  5000 non-null   object \n",
      "dtypes: float64(4), object(2)\n",
      "memory usage: 234.5+ KB\n"
     ]
    }
   ],
   "source": [
    "df_usd.info()"
   ]
  },
  {
   "cell_type": "markdown",
   "id": "d7316e67",
   "metadata": {},
   "source": [
    "Let's look at the initial five entries in this dataset and see how they are laid out ..."
   ]
  },
  {
   "cell_type": "code",
   "execution_count": 140,
   "id": "a86d47e8",
   "metadata": {},
   "outputs": [
    {
     "data": {
      "text/html": [
       "<div>\n",
       "<style scoped>\n",
       "    .dataframe tbody tr th:only-of-type {\n",
       "        vertical-align: middle;\n",
       "    }\n",
       "\n",
       "    .dataframe tbody tr th {\n",
       "        vertical-align: top;\n",
       "    }\n",
       "\n",
       "    .dataframe thead th {\n",
       "        text-align: right;\n",
       "    }\n",
       "</style>\n",
       "<table border=\"1\" class=\"dataframe\">\n",
       "  <thead>\n",
       "    <tr style=\"text-align: right;\">\n",
       "      <th></th>\n",
       "      <th>Date</th>\n",
       "      <th>Price</th>\n",
       "      <th>Open</th>\n",
       "      <th>High</th>\n",
       "      <th>Low</th>\n",
       "      <th>Change %</th>\n",
       "    </tr>\n",
       "  </thead>\n",
       "  <tbody>\n",
       "    <tr>\n",
       "      <th>0</th>\n",
       "      <td>Jan 02, 2001</td>\n",
       "      <td>108.77</td>\n",
       "      <td>109.33</td>\n",
       "      <td>109.65</td>\n",
       "      <td>108.64</td>\n",
       "      <td>-0.72%</td>\n",
       "    </tr>\n",
       "    <tr>\n",
       "      <th>1</th>\n",
       "      <td>Jan 03, 2001</td>\n",
       "      <td>110.17</td>\n",
       "      <td>108.59</td>\n",
       "      <td>110.34</td>\n",
       "      <td>108.09</td>\n",
       "      <td>1.29%</td>\n",
       "    </tr>\n",
       "    <tr>\n",
       "      <th>2</th>\n",
       "      <td>Jan 04, 2001</td>\n",
       "      <td>108.81</td>\n",
       "      <td>110.30</td>\n",
       "      <td>110.40</td>\n",
       "      <td>108.51</td>\n",
       "      <td>-1.23%</td>\n",
       "    </tr>\n",
       "    <tr>\n",
       "      <th>3</th>\n",
       "      <td>Jan 05, 2001</td>\n",
       "      <td>108.42</td>\n",
       "      <td>108.64</td>\n",
       "      <td>109.31</td>\n",
       "      <td>108.26</td>\n",
       "      <td>-0.36%</td>\n",
       "    </tr>\n",
       "    <tr>\n",
       "      <th>4</th>\n",
       "      <td>Jan 08, 2001</td>\n",
       "      <td>108.86</td>\n",
       "      <td>108.33</td>\n",
       "      <td>109.19</td>\n",
       "      <td>108.23</td>\n",
       "      <td>0.41%</td>\n",
       "    </tr>\n",
       "  </tbody>\n",
       "</table>\n",
       "</div>"
      ],
      "text/plain": [
       "           Date   Price    Open    High     Low Change %\n",
       "0  Jan 02, 2001  108.77  109.33  109.65  108.64   -0.72%\n",
       "1  Jan 03, 2001  110.17  108.59  110.34  108.09    1.29%\n",
       "2  Jan 04, 2001  108.81  110.30  110.40  108.51   -1.23%\n",
       "3  Jan 05, 2001  108.42  108.64  109.31  108.26   -0.36%\n",
       "4  Jan 08, 2001  108.86  108.33  109.19  108.23    0.41%"
      ]
     },
     "execution_count": 140,
     "metadata": {},
     "output_type": "execute_result"
    }
   ],
   "source": [
    "df_usd.head()"
   ]
  },
  {
   "cell_type": "markdown",
   "id": "4ea193cc",
   "metadata": {},
   "source": [
    "Looks good, so let's re-read the data but making the date column the index for the data set ..."
   ]
  },
  {
   "cell_type": "code",
   "execution_count": 141,
   "id": "b20c971e",
   "metadata": {},
   "outputs": [],
   "source": [
    "df_usd = pd.read_csv('C:\\\\ProgramData\\\\Anaconda3\\\\USDollarIndexHistoricalData.csv',parse_dates=True,index_col=0)"
   ]
  },
  {
   "cell_type": "markdown",
   "id": "67dc9537",
   "metadata": {},
   "source": [
    "Ok let's take a look at the us dollar price history data set now ..."
   ]
  },
  {
   "cell_type": "code",
   "execution_count": 142,
   "id": "fb59d472",
   "metadata": {},
   "outputs": [
    {
     "data": {
      "text/html": [
       "<div>\n",
       "<style scoped>\n",
       "    .dataframe tbody tr th:only-of-type {\n",
       "        vertical-align: middle;\n",
       "    }\n",
       "\n",
       "    .dataframe tbody tr th {\n",
       "        vertical-align: top;\n",
       "    }\n",
       "\n",
       "    .dataframe thead th {\n",
       "        text-align: right;\n",
       "    }\n",
       "</style>\n",
       "<table border=\"1\" class=\"dataframe\">\n",
       "  <thead>\n",
       "    <tr style=\"text-align: right;\">\n",
       "      <th></th>\n",
       "      <th>Price</th>\n",
       "      <th>Open</th>\n",
       "      <th>High</th>\n",
       "      <th>Low</th>\n",
       "      <th>Change %</th>\n",
       "    </tr>\n",
       "    <tr>\n",
       "      <th>Date</th>\n",
       "      <th></th>\n",
       "      <th></th>\n",
       "      <th></th>\n",
       "      <th></th>\n",
       "      <th></th>\n",
       "    </tr>\n",
       "  </thead>\n",
       "  <tbody>\n",
       "    <tr>\n",
       "      <th>2001-01-02</th>\n",
       "      <td>108.77</td>\n",
       "      <td>109.33</td>\n",
       "      <td>109.65</td>\n",
       "      <td>108.64</td>\n",
       "      <td>-0.72%</td>\n",
       "    </tr>\n",
       "    <tr>\n",
       "      <th>2001-01-03</th>\n",
       "      <td>110.17</td>\n",
       "      <td>108.59</td>\n",
       "      <td>110.34</td>\n",
       "      <td>108.09</td>\n",
       "      <td>1.29%</td>\n",
       "    </tr>\n",
       "    <tr>\n",
       "      <th>2001-01-04</th>\n",
       "      <td>108.81</td>\n",
       "      <td>110.30</td>\n",
       "      <td>110.40</td>\n",
       "      <td>108.51</td>\n",
       "      <td>-1.23%</td>\n",
       "    </tr>\n",
       "    <tr>\n",
       "      <th>2001-01-05</th>\n",
       "      <td>108.42</td>\n",
       "      <td>108.64</td>\n",
       "      <td>109.31</td>\n",
       "      <td>108.26</td>\n",
       "      <td>-0.36%</td>\n",
       "    </tr>\n",
       "    <tr>\n",
       "      <th>2001-01-08</th>\n",
       "      <td>108.86</td>\n",
       "      <td>108.33</td>\n",
       "      <td>109.19</td>\n",
       "      <td>108.23</td>\n",
       "      <td>0.41%</td>\n",
       "    </tr>\n",
       "  </tbody>\n",
       "</table>\n",
       "</div>"
      ],
      "text/plain": [
       "             Price    Open    High     Low Change %\n",
       "Date                                               \n",
       "2001-01-02  108.77  109.33  109.65  108.64   -0.72%\n",
       "2001-01-03  110.17  108.59  110.34  108.09    1.29%\n",
       "2001-01-04  108.81  110.30  110.40  108.51   -1.23%\n",
       "2001-01-05  108.42  108.64  109.31  108.26   -0.36%\n",
       "2001-01-08  108.86  108.33  109.19  108.23    0.41%"
      ]
     },
     "execution_count": 142,
     "metadata": {},
     "output_type": "execute_result"
    }
   ],
   "source": [
    "df_usd.head()"
   ]
  },
  {
   "cell_type": "markdown",
   "id": "0713e017",
   "metadata": {},
   "source": [
    "Let's rename the headings"
   ]
  },
  {
   "cell_type": "code",
   "execution_count": 143,
   "id": "584d5ffb",
   "metadata": {},
   "outputs": [],
   "source": [
    "df_usd.columns=['close_usd','open_usd','high_usd','low_usd','change%_usd'] "
   ]
  },
  {
   "cell_type": "code",
   "execution_count": 144,
   "id": "29e7a9aa",
   "metadata": {},
   "outputs": [
    {
     "data": {
      "text/html": [
       "<div>\n",
       "<style scoped>\n",
       "    .dataframe tbody tr th:only-of-type {\n",
       "        vertical-align: middle;\n",
       "    }\n",
       "\n",
       "    .dataframe tbody tr th {\n",
       "        vertical-align: top;\n",
       "    }\n",
       "\n",
       "    .dataframe thead th {\n",
       "        text-align: right;\n",
       "    }\n",
       "</style>\n",
       "<table border=\"1\" class=\"dataframe\">\n",
       "  <thead>\n",
       "    <tr style=\"text-align: right;\">\n",
       "      <th></th>\n",
       "      <th>close_usd</th>\n",
       "      <th>open_usd</th>\n",
       "      <th>high_usd</th>\n",
       "      <th>low_usd</th>\n",
       "      <th>change%_usd</th>\n",
       "    </tr>\n",
       "    <tr>\n",
       "      <th>Date</th>\n",
       "      <th></th>\n",
       "      <th></th>\n",
       "      <th></th>\n",
       "      <th></th>\n",
       "      <th></th>\n",
       "    </tr>\n",
       "  </thead>\n",
       "  <tbody>\n",
       "    <tr>\n",
       "      <th>2001-01-02</th>\n",
       "      <td>108.77</td>\n",
       "      <td>109.33</td>\n",
       "      <td>109.65</td>\n",
       "      <td>108.64</td>\n",
       "      <td>-0.72%</td>\n",
       "    </tr>\n",
       "    <tr>\n",
       "      <th>2001-01-03</th>\n",
       "      <td>110.17</td>\n",
       "      <td>108.59</td>\n",
       "      <td>110.34</td>\n",
       "      <td>108.09</td>\n",
       "      <td>1.29%</td>\n",
       "    </tr>\n",
       "    <tr>\n",
       "      <th>2001-01-04</th>\n",
       "      <td>108.81</td>\n",
       "      <td>110.30</td>\n",
       "      <td>110.40</td>\n",
       "      <td>108.51</td>\n",
       "      <td>-1.23%</td>\n",
       "    </tr>\n",
       "    <tr>\n",
       "      <th>2001-01-05</th>\n",
       "      <td>108.42</td>\n",
       "      <td>108.64</td>\n",
       "      <td>109.31</td>\n",
       "      <td>108.26</td>\n",
       "      <td>-0.36%</td>\n",
       "    </tr>\n",
       "    <tr>\n",
       "      <th>2001-01-08</th>\n",
       "      <td>108.86</td>\n",
       "      <td>108.33</td>\n",
       "      <td>109.19</td>\n",
       "      <td>108.23</td>\n",
       "      <td>0.41%</td>\n",
       "    </tr>\n",
       "  </tbody>\n",
       "</table>\n",
       "</div>"
      ],
      "text/plain": [
       "            close_usd  open_usd  high_usd  low_usd change%_usd\n",
       "Date                                                          \n",
       "2001-01-02     108.77    109.33    109.65   108.64      -0.72%\n",
       "2001-01-03     110.17    108.59    110.34   108.09       1.29%\n",
       "2001-01-04     108.81    110.30    110.40   108.51      -1.23%\n",
       "2001-01-05     108.42    108.64    109.31   108.26      -0.36%\n",
       "2001-01-08     108.86    108.33    109.19   108.23       0.41%"
      ]
     },
     "execution_count": 144,
     "metadata": {},
     "output_type": "execute_result"
    }
   ],
   "source": [
    "df_usd.head()"
   ]
  },
  {
   "cell_type": "markdown",
   "id": "351f7014",
   "metadata": {},
   "source": [
    "What is the length of the dataset?"
   ]
  },
  {
   "cell_type": "code",
   "execution_count": 145,
   "id": "51a1180a",
   "metadata": {},
   "outputs": [
    {
     "data": {
      "text/plain": [
       "5000"
      ]
     },
     "execution_count": 145,
     "metadata": {},
     "output_type": "execute_result"
    }
   ],
   "source": [
    "len(df_usd)"
   ]
  },
  {
   "cell_type": "markdown",
   "id": "44d3954c",
   "metadata": {},
   "source": [
    "Let's check for missing data"
   ]
  },
  {
   "cell_type": "code",
   "execution_count": 146,
   "id": "8c609a2b",
   "metadata": {},
   "outputs": [
    {
     "data": {
      "text/plain": [
       "False"
      ]
     },
     "execution_count": 146,
     "metadata": {},
     "output_type": "execute_result"
    }
   ],
   "source": [
    "df_usd.isnull().values.any()"
   ]
  },
  {
   "cell_type": "markdown",
   "id": "244723cc",
   "metadata": {},
   "source": [
    "OK, so there are no null values in this data.  Great."
   ]
  },
  {
   "cell_type": "code",
   "execution_count": 147,
   "id": "61c13765",
   "metadata": {
    "scrolled": true
   },
   "outputs": [
    {
     "data": {
      "text/plain": [
       "close_usd      0\n",
       "open_usd       0\n",
       "high_usd       0\n",
       "low_usd        0\n",
       "change%_usd    0\n",
       "dtype: int64"
      ]
     },
     "execution_count": 147,
     "metadata": {},
     "output_type": "execute_result"
    }
   ],
   "source": [
    "df_usd.isnull().sum()"
   ]
  },
  {
   "cell_type": "markdown",
   "id": "cd7f4292",
   "metadata": {},
   "source": [
    "Checking another way, for the total we could try this ..."
   ]
  },
  {
   "cell_type": "code",
   "execution_count": 148,
   "id": "0d2b4984",
   "metadata": {},
   "outputs": [
    {
     "data": {
      "text/plain": [
       "0"
      ]
     },
     "execution_count": 148,
     "metadata": {},
     "output_type": "execute_result"
    }
   ],
   "source": [
    "df_usd.isnull().sum().sum()"
   ]
  },
  {
   "cell_type": "markdown",
   "id": "4a56c326",
   "metadata": {},
   "source": [
    "Looks like a good data set.  Let's plot both the USD and the gold price together on the same chart."
   ]
  },
  {
   "cell_type": "code",
   "execution_count": 149,
   "id": "fcd1478a",
   "metadata": {
    "scrolled": true
   },
   "outputs": [
    {
     "data": {
      "image/png": "[encoded data removed]",
      "text/plain": [
       "<Figure size 432x288 with 1 Axes>"
      ]
     },
     "metadata": {},
     "output_type": "display_data"
    }
   ],
   "source": [
    "df_usd[\"close_usd\"].plot()\n",
    "df_gold[\"close_gold\"].plot()\n",
    "plt.show()"
   ]
  },
  {
   "cell_type": "markdown",
   "id": "620450e7",
   "metadata": {},
   "source": [
    "Because the scales are quite different, the usd series does not show up very well.  Let's try them one by one."
   ]
  },
  {
   "cell_type": "code",
   "execution_count": 150,
   "id": "11262160",
   "metadata": {},
   "outputs": [
    {
     "data": {
      "image/png": "[encoded data removed]",
      "text/plain": [
       "<Figure size 432x288 with 1 Axes>"
      ]
     },
     "metadata": {},
     "output_type": "display_data"
    }
   ],
   "source": [
    "df_usd[\"close_usd\"].plot()\n",
    "plt.show()"
   ]
  },
  {
   "cell_type": "code",
   "execution_count": 151,
   "id": "476b68b1",
   "metadata": {},
   "outputs": [
    {
     "data": {
      "text/plain": [
       "<AxesSubplot:xlabel='Date'>"
      ]
     },
     "execution_count": 151,
     "metadata": {},
     "output_type": "execute_result"
    },
    {
     "data": {
      "image/png": "[encoded data removed]",
      "text/plain": [
       "<Figure size 432x288 with 1 Axes>"
      ]
     },
     "metadata": {},
     "output_type": "display_data"
    }
   ],
   "source": [
    "df_gold[\"close_gold\"].plot()"
   ]
  },
  {
   "cell_type": "markdown",
   "id": "a1a66d3f",
   "metadata": {},
   "source": [
    "Interesting - we can visually see what appears to be a negative correlation.  But before we move on to our statistical analysis, how do we make sure the dates allign for our USD and gold price data sets?"
   ]
  },
  {
   "cell_type": "markdown",
   "id": "cc681c04",
   "metadata": {},
   "source": [
    "Let's merge the two data sets, using the date column as the index and merging only those years where both data sets have data (using the how=\"inner\" argument."
   ]
  },
  {
   "cell_type": "code",
   "execution_count": 152,
   "id": "35a6d001",
   "metadata": {},
   "outputs": [],
   "source": [
    "merged_df = pd.merge(df_gold,df_usd,on=\"Date\",how=\"inner\")"
   ]
  },
  {
   "cell_type": "code",
   "execution_count": 153,
   "id": "5f3c286b",
   "metadata": {},
   "outputs": [
    {
     "data": {
      "text/html": [
       "<div>\n",
       "<style scoped>\n",
       "    .dataframe tbody tr th:only-of-type {\n",
       "        vertical-align: middle;\n",
       "    }\n",
       "\n",
       "    .dataframe tbody tr th {\n",
       "        vertical-align: top;\n",
       "    }\n",
       "\n",
       "    .dataframe thead th {\n",
       "        text-align: right;\n",
       "    }\n",
       "</style>\n",
       "<table border=\"1\" class=\"dataframe\">\n",
       "  <thead>\n",
       "    <tr style=\"text-align: right;\">\n",
       "      <th></th>\n",
       "      <th>open_gold</th>\n",
       "      <th>high_gold</th>\n",
       "      <th>low_gold</th>\n",
       "      <th>close_gold</th>\n",
       "      <th>adj_close_gold</th>\n",
       "      <th>vol_gold</th>\n",
       "      <th>close_usd</th>\n",
       "      <th>open_usd</th>\n",
       "      <th>high_usd</th>\n",
       "      <th>low_usd</th>\n",
       "      <th>change%_usd</th>\n",
       "    </tr>\n",
       "    <tr>\n",
       "      <th>Date</th>\n",
       "      <th></th>\n",
       "      <th></th>\n",
       "      <th></th>\n",
       "      <th></th>\n",
       "      <th></th>\n",
       "      <th></th>\n",
       "      <th></th>\n",
       "      <th></th>\n",
       "      <th></th>\n",
       "      <th></th>\n",
       "      <th></th>\n",
       "    </tr>\n",
       "  </thead>\n",
       "  <tbody>\n",
       "    <tr>\n",
       "      <th>2001-01-02</th>\n",
       "      <td>268.399994</td>\n",
       "      <td>268.399994</td>\n",
       "      <td>268.399994</td>\n",
       "      <td>268.399994</td>\n",
       "      <td>268.399994</td>\n",
       "      <td>0.0</td>\n",
       "      <td>108.77</td>\n",
       "      <td>109.33</td>\n",
       "      <td>109.65</td>\n",
       "      <td>108.64</td>\n",
       "      <td>-0.72%</td>\n",
       "    </tr>\n",
       "    <tr>\n",
       "      <th>2001-01-03</th>\n",
       "      <td>268.000000</td>\n",
       "      <td>268.000000</td>\n",
       "      <td>268.000000</td>\n",
       "      <td>268.000000</td>\n",
       "      <td>268.000000</td>\n",
       "      <td>1.0</td>\n",
       "      <td>110.17</td>\n",
       "      <td>108.59</td>\n",
       "      <td>110.34</td>\n",
       "      <td>108.09</td>\n",
       "      <td>1.29%</td>\n",
       "    </tr>\n",
       "    <tr>\n",
       "      <th>2001-01-04</th>\n",
       "      <td>267.299988</td>\n",
       "      <td>267.299988</td>\n",
       "      <td>267.299988</td>\n",
       "      <td>267.299988</td>\n",
       "      <td>267.299988</td>\n",
       "      <td>1.0</td>\n",
       "      <td>108.81</td>\n",
       "      <td>110.30</td>\n",
       "      <td>110.40</td>\n",
       "      <td>108.51</td>\n",
       "      <td>-1.23%</td>\n",
       "    </tr>\n",
       "    <tr>\n",
       "      <th>2001-01-05</th>\n",
       "      <td>268.000000</td>\n",
       "      <td>268.000000</td>\n",
       "      <td>268.000000</td>\n",
       "      <td>268.000000</td>\n",
       "      <td>268.000000</td>\n",
       "      <td>0.0</td>\n",
       "      <td>108.42</td>\n",
       "      <td>108.64</td>\n",
       "      <td>109.31</td>\n",
       "      <td>108.26</td>\n",
       "      <td>-0.36%</td>\n",
       "    </tr>\n",
       "    <tr>\n",
       "      <th>2001-01-08</th>\n",
       "      <td>268.000000</td>\n",
       "      <td>268.000000</td>\n",
       "      <td>268.000000</td>\n",
       "      <td>268.000000</td>\n",
       "      <td>268.000000</td>\n",
       "      <td>0.0</td>\n",
       "      <td>108.86</td>\n",
       "      <td>108.33</td>\n",
       "      <td>109.19</td>\n",
       "      <td>108.23</td>\n",
       "      <td>0.41%</td>\n",
       "    </tr>\n",
       "  </tbody>\n",
       "</table>\n",
       "</div>"
      ],
      "text/plain": [
       "             open_gold   high_gold    low_gold  close_gold  adj_close_gold  \\\n",
       "Date                                                                         \n",
       "2001-01-02  268.399994  268.399994  268.399994  268.399994      268.399994   \n",
       "2001-01-03  268.000000  268.000000  268.000000  268.000000      268.000000   \n",
       "2001-01-04  267.299988  267.299988  267.299988  267.299988      267.299988   \n",
       "2001-01-05  268.000000  268.000000  268.000000  268.000000      268.000000   \n",
       "2001-01-08  268.000000  268.000000  268.000000  268.000000      268.000000   \n",
       "\n",
       "            vol_gold  close_usd  open_usd  high_usd  low_usd change%_usd  \n",
       "Date                                                                      \n",
       "2001-01-02       0.0     108.77    109.33    109.65   108.64      -0.72%  \n",
       "2001-01-03       1.0     110.17    108.59    110.34   108.09       1.29%  \n",
       "2001-01-04       1.0     108.81    110.30    110.40   108.51      -1.23%  \n",
       "2001-01-05       0.0     108.42    108.64    109.31   108.26      -0.36%  \n",
       "2001-01-08       0.0     108.86    108.33    109.19   108.23       0.41%  "
      ]
     },
     "execution_count": 153,
     "metadata": {},
     "output_type": "execute_result"
    }
   ],
   "source": [
    "merged_df.head()"
   ]
  },
  {
   "cell_type": "markdown",
   "id": "85284d0a",
   "metadata": {},
   "source": [
    "Let's look at the attributes of the merged data frame ..."
   ]
  },
  {
   "cell_type": "code",
   "execution_count": 154,
   "id": "eca4d1f0",
   "metadata": {},
   "outputs": [
    {
     "name": "stdout",
     "output_type": "stream",
     "text": [
      "<class 'pandas.core.frame.DataFrame'>\n",
      "DatetimeIndex: 4889 entries, 2001-01-02 to 2020-05-04\n",
      "Data columns (total 11 columns):\n",
      " #   Column          Non-Null Count  Dtype  \n",
      "---  ------          --------------  -----  \n",
      " 0   open_gold       4889 non-null   float64\n",
      " 1   high_gold       4889 non-null   float64\n",
      " 2   low_gold        4889 non-null   float64\n",
      " 3   close_gold      4889 non-null   float64\n",
      " 4   adj_close_gold  4889 non-null   float64\n",
      " 5   vol_gold        4889 non-null   float64\n",
      " 6   close_usd       4889 non-null   float64\n",
      " 7   open_usd        4889 non-null   float64\n",
      " 8   high_usd        4889 non-null   float64\n",
      " 9   low_usd         4889 non-null   float64\n",
      " 10  change%_usd     4889 non-null   object \n",
      "dtypes: float64(10), object(1)\n",
      "memory usage: 458.3+ KB\n"
     ]
    }
   ],
   "source": [
    "merged_df.info()"
   ]
  },
  {
   "cell_type": "markdown",
   "id": "0e2e6aae",
   "metadata": {},
   "source": [
    "We've lost some years merging the two data sets, but that's ok."
   ]
  },
  {
   "cell_type": "markdown",
   "id": "15520ea1",
   "metadata": {},
   "source": [
    "Now let's consider our regression ... some preliminary steps include ..."
   ]
  },
  {
   "cell_type": "markdown",
   "id": "bf4dd2f3",
   "metadata": {},
   "source": [
    "Checking for outliers in the data ... we can use box plots for that ..."
   ]
  },
  {
   "cell_type": "code",
   "execution_count": 155,
   "id": "342efec7",
   "metadata": {},
   "outputs": [
    {
     "data": {
      "image/png": "[encoded data removed]",
      "text/plain": [
       "<Figure size 432x288 with 1 Axes>"
      ]
     },
     "metadata": {},
     "output_type": "display_data"
    }
   ],
   "source": [
    "plt.boxplot(merged_df[\"close_gold\"])\n",
    "plt.show()"
   ]
  },
  {
   "cell_type": "code",
   "execution_count": 156,
   "id": "27f94a8c",
   "metadata": {},
   "outputs": [
    {
     "data": {
      "image/png": "[encoded data removed]",
      "text/plain": [
       "<Figure size 432x288 with 1 Axes>"
      ]
     },
     "metadata": {},
     "output_type": "display_data"
    }
   ],
   "source": [
    "plt.boxplot(merged_df[\"close_usd\"])\n",
    "plt.show()"
   ]
  },
  {
   "cell_type": "markdown",
   "id": "20972aef",
   "metadata": {},
   "source": [
    "Good.  It appears there are no outliers in the data (defined as First Quartile -  1.5 x Inter Quartile Range and Third Quartile + 1.5 x Inter Quartile Range. Outliers would appear as bubbles on the plots."
   ]
  },
  {
   "cell_type": "markdown",
   "id": "b076fc6b",
   "metadata": {},
   "source": [
    "Now lets do a simple xy plot to visually inspect the relationship and consider if it looks linear."
   ]
  },
  {
   "cell_type": "code",
   "execution_count": 157,
   "id": "119a2b71",
   "metadata": {},
   "outputs": [
    {
     "data": {
      "image/png": "[encoded data removed]",
      "text/plain": [
       "<Figure size 432x288 with 1 Axes>"
      ]
     },
     "metadata": {},
     "output_type": "display_data"
    }
   ],
   "source": [
    "plt.scatter(merged_df.close_usd, merged_df.close_gold, color='red', marker='.')\n",
    "plt.title('Gold Price vs USD: 2001-2021')\n",
    "plt.xlabel('USD Index')\n",
    "plt.ylabel('Gold Price')\n",
    "plt.show()"
   ]
  },
  {
   "cell_type": "markdown",
   "id": "2341d8fd",
   "metadata": {},
   "source": [
    "With some obvious exceptions, we can see something resembling an inverse relationship between the usd and gold (the expected outcome).  The stronger the USD index, the lower the gold price and vice versa."
   ]
  },
  {
   "cell_type": "markdown",
   "id": "68d04add",
   "metadata": {},
   "source": [
    "Let's assign our x and y variables their corresponding numpy array values"
   ]
  },
  {
   "cell_type": "markdown",
   "id": "f2849dee",
   "metadata": {},
   "source": [
    "merged_df = merged_df.reset_index()"
   ]
  },
  {
   "cell_type": "markdown",
   "id": "8a16a32a",
   "metadata": {},
   "source": [
    "merged_df.head()"
   ]
  },
  {
   "cell_type": "code",
   "execution_count": 167,
   "id": "99030a0a",
   "metadata": {},
   "outputs": [
    {
     "ename": "KeyError",
     "evalue": "('Date', 'close_gold')",
     "output_type": "error",
     "traceback": [
      "\u001b[1;31m---------------------------------------------------------------------------\u001b[0m",
      "\u001b[1;31mKeyError\u001b[0m                                  Traceback (most recent call last)",
      "\u001b[1;32mC:\\ProgramData\\Anaconda3\\lib\\site-packages\\pandas\\core\\indexes\\base.py\u001b[0m in \u001b[0;36mget_loc\u001b[1;34m(self, key, method, tolerance)\u001b[0m\n\u001b[0;32m   3360\u001b[0m             \u001b[1;32mtry\u001b[0m\u001b[1;33m:\u001b[0m\u001b[1;33m\u001b[0m\u001b[1;33m\u001b[0m\u001b[0m\n\u001b[1;32m-> 3361\u001b[1;33m                 \u001b[1;32mreturn\u001b[0m \u001b[0mself\u001b[0m\u001b[1;33m.\u001b[0m\u001b[0m_engine\u001b[0m\u001b[1;33m.\u001b[0m\u001b[0mget_loc\u001b[0m\u001b[1;33m(\u001b[0m\u001b[0mcasted_key\u001b[0m\u001b[1;33m)\u001b[0m\u001b[1;33m\u001b[0m\u001b[1;33m\u001b[0m\u001b[0m\n\u001b[0m\u001b[0;32m   3362\u001b[0m             \u001b[1;32mexcept\u001b[0m \u001b[0mKeyError\u001b[0m \u001b[1;32mas\u001b[0m \u001b[0merr\u001b[0m\u001b[1;33m:\u001b[0m\u001b[1;33m\u001b[0m\u001b[1;33m\u001b[0m\u001b[0m\n",
      "\u001b[1;32mC:\\ProgramData\\Anaconda3\\lib\\site-packages\\pandas\\_libs\\index.pyx\u001b[0m in \u001b[0;36mpandas._libs.index.IndexEngine.get_loc\u001b[1;34m()\u001b[0m\n",
      "\u001b[1;32mC:\\ProgramData\\Anaconda3\\lib\\site-packages\\pandas\\_libs\\index.pyx\u001b[0m in \u001b[0;36mpandas._libs.index.IndexEngine.get_loc\u001b[1;34m()\u001b[0m\n",
      "\u001b[1;32mpandas\\_libs\\hashtable_class_helper.pxi\u001b[0m in \u001b[0;36mpandas._libs.hashtable.PyObjectHashTable.get_item\u001b[1;34m()\u001b[0m\n",
      "\u001b[1;32mpandas\\_libs\\hashtable_class_helper.pxi\u001b[0m in \u001b[0;36mpandas._libs.hashtable.PyObjectHashTable.get_item\u001b[1;34m()\u001b[0m\n",
      "\u001b[1;31mKeyError\u001b[0m: ('Date', 'close_gold')",
      "\nThe above exception was the direct cause of the following exception:\n",
      "\u001b[1;31mKeyError\u001b[0m                                  Traceback (most recent call last)",
      "\u001b[1;32m~\\AppData\\Local\\Temp/ipykernel_3368/2703101554.py\u001b[0m in \u001b[0;36m<module>\u001b[1;34m\u001b[0m\n\u001b[1;32m----> 1\u001b[1;33m \u001b[0my\u001b[0m \u001b[1;33m=\u001b[0m \u001b[0mnp\u001b[0m\u001b[1;33m.\u001b[0m\u001b[0marray\u001b[0m\u001b[1;33m(\u001b[0m\u001b[0mmerged_df\u001b[0m\u001b[1;33m[\u001b[0m\u001b[1;34m'Date'\u001b[0m\u001b[1;33m,\u001b[0m\u001b[1;34m'close_gold'\u001b[0m\u001b[1;33m]\u001b[0m\u001b[1;33m,\u001b[0m \u001b[0mdtype\u001b[0m\u001b[1;33m=\u001b[0m\u001b[0mfloat\u001b[0m\u001b[1;33m)\u001b[0m\u001b[1;33m\u001b[0m\u001b[1;33m\u001b[0m\u001b[0m\n\u001b[0m",
      "\u001b[1;32mC:\\ProgramData\\Anaconda3\\lib\\site-packages\\pandas\\core\\frame.py\u001b[0m in \u001b[0;36m__getitem__\u001b[1;34m(self, key)\u001b[0m\n\u001b[0;32m   3456\u001b[0m             \u001b[1;32mif\u001b[0m \u001b[0mself\u001b[0m\u001b[1;33m.\u001b[0m\u001b[0mcolumns\u001b[0m\u001b[1;33m.\u001b[0m\u001b[0mnlevels\u001b[0m \u001b[1;33m>\u001b[0m \u001b[1;36m1\u001b[0m\u001b[1;33m:\u001b[0m\u001b[1;33m\u001b[0m\u001b[1;33m\u001b[0m\u001b[0m\n\u001b[0;32m   3457\u001b[0m                 \u001b[1;32mreturn\u001b[0m \u001b[0mself\u001b[0m\u001b[1;33m.\u001b[0m\u001b[0m_getitem_multilevel\u001b[0m\u001b[1;33m(\u001b[0m\u001b[0mkey\u001b[0m\u001b[1;33m)\u001b[0m\u001b[1;33m\u001b[0m\u001b[1;33m\u001b[0m\u001b[0m\n\u001b[1;32m-> 3458\u001b[1;33m             \u001b[0mindexer\u001b[0m \u001b[1;33m=\u001b[0m \u001b[0mself\u001b[0m\u001b[1;33m.\u001b[0m\u001b[0mcolumns\u001b[0m\u001b[1;33m.\u001b[0m\u001b[0mget_loc\u001b[0m\u001b[1;33m(\u001b[0m\u001b[0mkey\u001b[0m\u001b[1;33m)\u001b[0m\u001b[1;33m\u001b[0m\u001b[1;33m\u001b[0m\u001b[0m\n\u001b[0m\u001b[0;32m   3459\u001b[0m             \u001b[1;32mif\u001b[0m \u001b[0mis_integer\u001b[0m\u001b[1;33m(\u001b[0m\u001b[0mindexer\u001b[0m\u001b[1;33m)\u001b[0m\u001b[1;33m:\u001b[0m\u001b[1;33m\u001b[0m\u001b[1;33m\u001b[0m\u001b[0m\n\u001b[0;32m   3460\u001b[0m                 \u001b[0mindexer\u001b[0m \u001b[1;33m=\u001b[0m \u001b[1;33m[\u001b[0m\u001b[0mindexer\u001b[0m\u001b[1;33m]\u001b[0m\u001b[1;33m\u001b[0m\u001b[1;33m\u001b[0m\u001b[0m\n",
      "\u001b[1;32mC:\\ProgramData\\Anaconda3\\lib\\site-packages\\pandas\\core\\indexes\\base.py\u001b[0m in \u001b[0;36mget_loc\u001b[1;34m(self, key, method, tolerance)\u001b[0m\n\u001b[0;32m   3361\u001b[0m                 \u001b[1;32mreturn\u001b[0m \u001b[0mself\u001b[0m\u001b[1;33m.\u001b[0m\u001b[0m_engine\u001b[0m\u001b[1;33m.\u001b[0m\u001b[0mget_loc\u001b[0m\u001b[1;33m(\u001b[0m\u001b[0mcasted_key\u001b[0m\u001b[1;33m)\u001b[0m\u001b[1;33m\u001b[0m\u001b[1;33m\u001b[0m\u001b[0m\n\u001b[0;32m   3362\u001b[0m             \u001b[1;32mexcept\u001b[0m \u001b[0mKeyError\u001b[0m \u001b[1;32mas\u001b[0m \u001b[0merr\u001b[0m\u001b[1;33m:\u001b[0m\u001b[1;33m\u001b[0m\u001b[1;33m\u001b[0m\u001b[0m\n\u001b[1;32m-> 3363\u001b[1;33m                 \u001b[1;32mraise\u001b[0m \u001b[0mKeyError\u001b[0m\u001b[1;33m(\u001b[0m\u001b[0mkey\u001b[0m\u001b[1;33m)\u001b[0m \u001b[1;32mfrom\u001b[0m \u001b[0merr\u001b[0m\u001b[1;33m\u001b[0m\u001b[1;33m\u001b[0m\u001b[0m\n\u001b[0m\u001b[0;32m   3364\u001b[0m \u001b[1;33m\u001b[0m\u001b[0m\n\u001b[0;32m   3365\u001b[0m         \u001b[1;32mif\u001b[0m \u001b[0mis_scalar\u001b[0m\u001b[1;33m(\u001b[0m\u001b[0mkey\u001b[0m\u001b[1;33m)\u001b[0m \u001b[1;32mand\u001b[0m \u001b[0misna\u001b[0m\u001b[1;33m(\u001b[0m\u001b[0mkey\u001b[0m\u001b[1;33m)\u001b[0m \u001b[1;32mand\u001b[0m \u001b[1;32mnot\u001b[0m \u001b[0mself\u001b[0m\u001b[1;33m.\u001b[0m\u001b[0mhasnans\u001b[0m\u001b[1;33m:\u001b[0m\u001b[1;33m\u001b[0m\u001b[1;33m\u001b[0m\u001b[0m\n",
      "\u001b[1;31mKeyError\u001b[0m: ('Date', 'close_gold')"
     ]
    }
   ],
   "source": [
    "y = np.array(merged_df['Date','close_gold'], dtype=float)"
   ]
  },
  {
   "cell_type": "code",
   "execution_count": 163,
   "id": "fa0af8c6",
   "metadata": {},
   "outputs": [
    {
     "ename": "KeyError",
     "evalue": "('Date', 'close_gold')",
     "output_type": "error",
     "traceback": [
      "\u001b[1;31m---------------------------------------------------------------------------\u001b[0m",
      "\u001b[1;31mKeyError\u001b[0m                                  Traceback (most recent call last)",
      "\u001b[1;32mC:\\ProgramData\\Anaconda3\\lib\\site-packages\\pandas\\core\\indexes\\base.py\u001b[0m in \u001b[0;36mget_loc\u001b[1;34m(self, key, method, tolerance)\u001b[0m\n\u001b[0;32m   3360\u001b[0m             \u001b[1;32mtry\u001b[0m\u001b[1;33m:\u001b[0m\u001b[1;33m\u001b[0m\u001b[1;33m\u001b[0m\u001b[0m\n\u001b[1;32m-> 3361\u001b[1;33m                 \u001b[1;32mreturn\u001b[0m \u001b[0mself\u001b[0m\u001b[1;33m.\u001b[0m\u001b[0m_engine\u001b[0m\u001b[1;33m.\u001b[0m\u001b[0mget_loc\u001b[0m\u001b[1;33m(\u001b[0m\u001b[0mcasted_key\u001b[0m\u001b[1;33m)\u001b[0m\u001b[1;33m\u001b[0m\u001b[1;33m\u001b[0m\u001b[0m\n\u001b[0m\u001b[0;32m   3362\u001b[0m             \u001b[1;32mexcept\u001b[0m \u001b[0mKeyError\u001b[0m \u001b[1;32mas\u001b[0m \u001b[0merr\u001b[0m\u001b[1;33m:\u001b[0m\u001b[1;33m\u001b[0m\u001b[1;33m\u001b[0m\u001b[0m\n",
      "\u001b[1;32mC:\\ProgramData\\Anaconda3\\lib\\site-packages\\pandas\\_libs\\index.pyx\u001b[0m in \u001b[0;36mpandas._libs.index.IndexEngine.get_loc\u001b[1;34m()\u001b[0m\n",
      "\u001b[1;32mC:\\ProgramData\\Anaconda3\\lib\\site-packages\\pandas\\_libs\\index.pyx\u001b[0m in \u001b[0;36mpandas._libs.index.IndexEngine.get_loc\u001b[1;34m()\u001b[0m\n",
      "\u001b[1;32mpandas\\_libs\\hashtable_class_helper.pxi\u001b[0m in \u001b[0;36mpandas._libs.hashtable.PyObjectHashTable.get_item\u001b[1;34m()\u001b[0m\n",
      "\u001b[1;32mpandas\\_libs\\hashtable_class_helper.pxi\u001b[0m in \u001b[0;36mpandas._libs.hashtable.PyObjectHashTable.get_item\u001b[1;34m()\u001b[0m\n",
      "\u001b[1;31mKeyError\u001b[0m: ('Date', 'close_gold')",
      "\nThe above exception was the direct cause of the following exception:\n",
      "\u001b[1;31mKeyError\u001b[0m                                  Traceback (most recent call last)",
      "\u001b[1;32m~\\AppData\\Local\\Temp/ipykernel_3368/1770294909.py\u001b[0m in \u001b[0;36m<module>\u001b[1;34m\u001b[0m\n\u001b[1;32m----> 1\u001b[1;33m \u001b[0my\u001b[0m \u001b[1;33m=\u001b[0m \u001b[0mnp\u001b[0m\u001b[1;33m.\u001b[0m\u001b[0marray\u001b[0m\u001b[1;33m(\u001b[0m\u001b[0mmerged_df\u001b[0m\u001b[1;33m[\u001b[0m\u001b[1;34m'Date'\u001b[0m\u001b[1;33m,\u001b[0m\u001b[1;34m'close_gold'\u001b[0m\u001b[1;33m]\u001b[0m\u001b[1;33m,\u001b[0m \u001b[0mdtype\u001b[0m\u001b[1;33m=\u001b[0m\u001b[0mfloat\u001b[0m\u001b[1;33m)\u001b[0m\u001b[1;33m\u001b[0m\u001b[1;33m\u001b[0m\u001b[0m\n\u001b[0m\u001b[0;32m      2\u001b[0m \u001b[0mx\u001b[0m \u001b[1;33m=\u001b[0m \u001b[0mnp\u001b[0m\u001b[1;33m.\u001b[0m\u001b[0marray\u001b[0m\u001b[1;33m(\u001b[0m\u001b[0mmerged_df\u001b[0m\u001b[1;33m[\u001b[0m\u001b[1;34m'Date'\u001b[0m\u001b[1;33m,\u001b[0m\u001b[1;34m'close_usd'\u001b[0m\u001b[1;33m]\u001b[0m\u001b[1;33m,\u001b[0m \u001b[0mdtype\u001b[0m\u001b[1;33m=\u001b[0m\u001b[0mfloat\u001b[0m\u001b[1;33m)\u001b[0m\u001b[1;33m\u001b[0m\u001b[1;33m\u001b[0m\u001b[0m\n",
      "\u001b[1;32mC:\\ProgramData\\Anaconda3\\lib\\site-packages\\pandas\\core\\frame.py\u001b[0m in \u001b[0;36m__getitem__\u001b[1;34m(self, key)\u001b[0m\n\u001b[0;32m   3456\u001b[0m             \u001b[1;32mif\u001b[0m \u001b[0mself\u001b[0m\u001b[1;33m.\u001b[0m\u001b[0mcolumns\u001b[0m\u001b[1;33m.\u001b[0m\u001b[0mnlevels\u001b[0m \u001b[1;33m>\u001b[0m \u001b[1;36m1\u001b[0m\u001b[1;33m:\u001b[0m\u001b[1;33m\u001b[0m\u001b[1;33m\u001b[0m\u001b[0m\n\u001b[0;32m   3457\u001b[0m                 \u001b[1;32mreturn\u001b[0m \u001b[0mself\u001b[0m\u001b[1;33m.\u001b[0m\u001b[0m_getitem_multilevel\u001b[0m\u001b[1;33m(\u001b[0m\u001b[0mkey\u001b[0m\u001b[1;33m)\u001b[0m\u001b[1;33m\u001b[0m\u001b[1;33m\u001b[0m\u001b[0m\n\u001b[1;32m-> 3458\u001b[1;33m             \u001b[0mindexer\u001b[0m \u001b[1;33m=\u001b[0m \u001b[0mself\u001b[0m\u001b[1;33m.\u001b[0m\u001b[0mcolumns\u001b[0m\u001b[1;33m.\u001b[0m\u001b[0mget_loc\u001b[0m\u001b[1;33m(\u001b[0m\u001b[0mkey\u001b[0m\u001b[1;33m)\u001b[0m\u001b[1;33m\u001b[0m\u001b[1;33m\u001b[0m\u001b[0m\n\u001b[0m\u001b[0;32m   3459\u001b[0m             \u001b[1;32mif\u001b[0m \u001b[0mis_integer\u001b[0m\u001b[1;33m(\u001b[0m\u001b[0mindexer\u001b[0m\u001b[1;33m)\u001b[0m\u001b[1;33m:\u001b[0m\u001b[1;33m\u001b[0m\u001b[1;33m\u001b[0m\u001b[0m\n\u001b[0;32m   3460\u001b[0m                 \u001b[0mindexer\u001b[0m \u001b[1;33m=\u001b[0m \u001b[1;33m[\u001b[0m\u001b[0mindexer\u001b[0m\u001b[1;33m]\u001b[0m\u001b[1;33m\u001b[0m\u001b[1;33m\u001b[0m\u001b[0m\n",
      "\u001b[1;32mC:\\ProgramData\\Anaconda3\\lib\\site-packages\\pandas\\core\\indexes\\base.py\u001b[0m in \u001b[0;36mget_loc\u001b[1;34m(self, key, method, tolerance)\u001b[0m\n\u001b[0;32m   3361\u001b[0m                 \u001b[1;32mreturn\u001b[0m \u001b[0mself\u001b[0m\u001b[1;33m.\u001b[0m\u001b[0m_engine\u001b[0m\u001b[1;33m.\u001b[0m\u001b[0mget_loc\u001b[0m\u001b[1;33m(\u001b[0m\u001b[0mcasted_key\u001b[0m\u001b[1;33m)\u001b[0m\u001b[1;33m\u001b[0m\u001b[1;33m\u001b[0m\u001b[0m\n\u001b[0;32m   3362\u001b[0m             \u001b[1;32mexcept\u001b[0m \u001b[0mKeyError\u001b[0m \u001b[1;32mas\u001b[0m \u001b[0merr\u001b[0m\u001b[1;33m:\u001b[0m\u001b[1;33m\u001b[0m\u001b[1;33m\u001b[0m\u001b[0m\n\u001b[1;32m-> 3363\u001b[1;33m                 \u001b[1;32mraise\u001b[0m \u001b[0mKeyError\u001b[0m\u001b[1;33m(\u001b[0m\u001b[0mkey\u001b[0m\u001b[1;33m)\u001b[0m \u001b[1;32mfrom\u001b[0m \u001b[0merr\u001b[0m\u001b[1;33m\u001b[0m\u001b[1;33m\u001b[0m\u001b[0m\n\u001b[0m\u001b[0;32m   3364\u001b[0m \u001b[1;33m\u001b[0m\u001b[0m\n\u001b[0;32m   3365\u001b[0m         \u001b[1;32mif\u001b[0m \u001b[0mis_scalar\u001b[0m\u001b[1;33m(\u001b[0m\u001b[0mkey\u001b[0m\u001b[1;33m)\u001b[0m \u001b[1;32mand\u001b[0m \u001b[0misna\u001b[0m\u001b[1;33m(\u001b[0m\u001b[0mkey\u001b[0m\u001b[1;33m)\u001b[0m \u001b[1;32mand\u001b[0m \u001b[1;32mnot\u001b[0m \u001b[0mself\u001b[0m\u001b[1;33m.\u001b[0m\u001b[0mhasnans\u001b[0m\u001b[1;33m:\u001b[0m\u001b[1;33m\u001b[0m\u001b[1;33m\u001b[0m\u001b[0m\n",
      "\u001b[1;31mKeyError\u001b[0m: ('Date', 'close_gold')"
     ]
    }
   ],
   "source": [
    "x = np.array(merged_df['Date','close_usd'], dtype=float)"
   ]
  },
  {
   "cell_type": "code",
   "execution_count": 159,
   "id": "8c768583",
   "metadata": {},
   "outputs": [
    {
     "data": {
      "text/plain": [
       "array([108.77, 110.17, 108.81, ...,  99.02,  99.08,  99.48])"
      ]
     },
     "execution_count": 159,
     "metadata": {},
     "output_type": "execute_result"
    }
   ],
   "source": [
    "x"
   ]
  },
  {
   "cell_type": "code",
   "execution_count": 160,
   "id": "03c23eeb",
   "metadata": {},
   "outputs": [
    {
     "data": {
      "text/plain": [
       "array([ 268.399994,  268.      ,  267.299988, ..., 1684.199951,\n",
       "       1694.5     , 1706.900024])"
      ]
     },
     "execution_count": 160,
     "metadata": {},
     "output_type": "execute_result"
    }
   ],
   "source": [
    "y"
   ]
  },
  {
   "cell_type": "markdown",
   "id": "37dbe9aa",
   "metadata": {},
   "source": [
    "Let's include a constant in our regression (must do manually) and run the ordinary least squares (OLS) regression"
   ]
  },
  {
   "cell_type": "markdown",
   "id": "6321ff2f",
   "metadata": {},
   "source": [
    "x = sm.add_constant(x) #add constant to predictor variables\n",
    "model = sm.OLS(y, x).fit() #fit linear regression model\n",
    "print(model.summary()) #view model summary"
   ]
  },
  {
   "cell_type": "markdown",
   "id": "1b2583c4",
   "metadata": {},
   "source": [
    "Let's remove the index from the date column ..."
   ]
  },
  {
   "cell_type": "code",
   "execution_count": 161,
   "id": "d7262519",
   "metadata": {},
   "outputs": [
    {
     "ename": "ValueError",
     "evalue": "Expected 2D array, got 1D array instead:\narray=[108.77 110.17 108.81 ...  99.02  99.08  99.48].\nReshape your data either using array.reshape(-1, 1) if your data has a single feature or array.reshape(1, -1) if it contains a single sample.",
     "output_type": "error",
     "traceback": [
      "\u001b[1;31m---------------------------------------------------------------------------\u001b[0m",
      "\u001b[1;31mValueError\u001b[0m                                Traceback (most recent call last)",
      "\u001b[1;32m~\\AppData\\Local\\Temp/ipykernel_3368/2205133513.py\u001b[0m in \u001b[0;36m<module>\u001b[1;34m\u001b[0m\n\u001b[0;32m      1\u001b[0m \u001b[0mreg\u001b[0m \u001b[1;33m=\u001b[0m \u001b[0mlinear_model\u001b[0m\u001b[1;33m.\u001b[0m\u001b[0mLinearRegression\u001b[0m\u001b[1;33m(\u001b[0m\u001b[1;33m)\u001b[0m\u001b[1;33m\u001b[0m\u001b[1;33m\u001b[0m\u001b[0m\n\u001b[1;32m----> 2\u001b[1;33m \u001b[0mreg\u001b[0m\u001b[1;33m.\u001b[0m\u001b[0mfit\u001b[0m\u001b[1;33m(\u001b[0m\u001b[0mx\u001b[0m\u001b[1;33m,\u001b[0m\u001b[0my\u001b[0m\u001b[1;33m)\u001b[0m\u001b[1;33m\u001b[0m\u001b[1;33m\u001b[0m\u001b[0m\n\u001b[0m",
      "\u001b[1;32mC:\\ProgramData\\Anaconda3\\lib\\site-packages\\sklearn\\linear_model\\_base.py\u001b[0m in \u001b[0;36mfit\u001b[1;34m(self, X, y, sample_weight)\u001b[0m\n\u001b[0;32m    516\u001b[0m         \u001b[0maccept_sparse\u001b[0m \u001b[1;33m=\u001b[0m \u001b[1;32mFalse\u001b[0m \u001b[1;32mif\u001b[0m \u001b[0mself\u001b[0m\u001b[1;33m.\u001b[0m\u001b[0mpositive\u001b[0m \u001b[1;32melse\u001b[0m \u001b[1;33m[\u001b[0m\u001b[1;34m'csr'\u001b[0m\u001b[1;33m,\u001b[0m \u001b[1;34m'csc'\u001b[0m\u001b[1;33m,\u001b[0m \u001b[1;34m'coo'\u001b[0m\u001b[1;33m]\u001b[0m\u001b[1;33m\u001b[0m\u001b[1;33m\u001b[0m\u001b[0m\n\u001b[0;32m    517\u001b[0m \u001b[1;33m\u001b[0m\u001b[0m\n\u001b[1;32m--> 518\u001b[1;33m         X, y = self._validate_data(X, y, accept_sparse=accept_sparse,\n\u001b[0m\u001b[0;32m    519\u001b[0m                                    y_numeric=True, multi_output=True)\n\u001b[0;32m    520\u001b[0m \u001b[1;33m\u001b[0m\u001b[0m\n",
      "\u001b[1;32mC:\\ProgramData\\Anaconda3\\lib\\site-packages\\sklearn\\base.py\u001b[0m in \u001b[0;36m_validate_data\u001b[1;34m(self, X, y, reset, validate_separately, **check_params)\u001b[0m\n\u001b[0;32m    431\u001b[0m                 \u001b[0my\u001b[0m \u001b[1;33m=\u001b[0m \u001b[0mcheck_array\u001b[0m\u001b[1;33m(\u001b[0m\u001b[0my\u001b[0m\u001b[1;33m,\u001b[0m \u001b[1;33m**\u001b[0m\u001b[0mcheck_y_params\u001b[0m\u001b[1;33m)\u001b[0m\u001b[1;33m\u001b[0m\u001b[1;33m\u001b[0m\u001b[0m\n\u001b[0;32m    432\u001b[0m             \u001b[1;32melse\u001b[0m\u001b[1;33m:\u001b[0m\u001b[1;33m\u001b[0m\u001b[1;33m\u001b[0m\u001b[0m\n\u001b[1;32m--> 433\u001b[1;33m                 \u001b[0mX\u001b[0m\u001b[1;33m,\u001b[0m \u001b[0my\u001b[0m \u001b[1;33m=\u001b[0m \u001b[0mcheck_X_y\u001b[0m\u001b[1;33m(\u001b[0m\u001b[0mX\u001b[0m\u001b[1;33m,\u001b[0m \u001b[0my\u001b[0m\u001b[1;33m,\u001b[0m \u001b[1;33m**\u001b[0m\u001b[0mcheck_params\u001b[0m\u001b[1;33m)\u001b[0m\u001b[1;33m\u001b[0m\u001b[1;33m\u001b[0m\u001b[0m\n\u001b[0m\u001b[0;32m    434\u001b[0m             \u001b[0mout\u001b[0m \u001b[1;33m=\u001b[0m \u001b[0mX\u001b[0m\u001b[1;33m,\u001b[0m \u001b[0my\u001b[0m\u001b[1;33m\u001b[0m\u001b[1;33m\u001b[0m\u001b[0m\n\u001b[0;32m    435\u001b[0m \u001b[1;33m\u001b[0m\u001b[0m\n",
      "\u001b[1;32mC:\\ProgramData\\Anaconda3\\lib\\site-packages\\sklearn\\utils\\validation.py\u001b[0m in \u001b[0;36minner_f\u001b[1;34m(*args, **kwargs)\u001b[0m\n\u001b[0;32m     61\u001b[0m             \u001b[0mextra_args\u001b[0m \u001b[1;33m=\u001b[0m \u001b[0mlen\u001b[0m\u001b[1;33m(\u001b[0m\u001b[0margs\u001b[0m\u001b[1;33m)\u001b[0m \u001b[1;33m-\u001b[0m \u001b[0mlen\u001b[0m\u001b[1;33m(\u001b[0m\u001b[0mall_args\u001b[0m\u001b[1;33m)\u001b[0m\u001b[1;33m\u001b[0m\u001b[1;33m\u001b[0m\u001b[0m\n\u001b[0;32m     62\u001b[0m             \u001b[1;32mif\u001b[0m \u001b[0mextra_args\u001b[0m \u001b[1;33m<=\u001b[0m \u001b[1;36m0\u001b[0m\u001b[1;33m:\u001b[0m\u001b[1;33m\u001b[0m\u001b[1;33m\u001b[0m\u001b[0m\n\u001b[1;32m---> 63\u001b[1;33m                 \u001b[1;32mreturn\u001b[0m \u001b[0mf\u001b[0m\u001b[1;33m(\u001b[0m\u001b[1;33m*\u001b[0m\u001b[0margs\u001b[0m\u001b[1;33m,\u001b[0m \u001b[1;33m**\u001b[0m\u001b[0mkwargs\u001b[0m\u001b[1;33m)\u001b[0m\u001b[1;33m\u001b[0m\u001b[1;33m\u001b[0m\u001b[0m\n\u001b[0m\u001b[0;32m     64\u001b[0m \u001b[1;33m\u001b[0m\u001b[0m\n\u001b[0;32m     65\u001b[0m             \u001b[1;31m# extra_args > 0\u001b[0m\u001b[1;33m\u001b[0m\u001b[1;33m\u001b[0m\u001b[0m\n",
      "\u001b[1;32mC:\\ProgramData\\Anaconda3\\lib\\site-packages\\sklearn\\utils\\validation.py\u001b[0m in \u001b[0;36mcheck_X_y\u001b[1;34m(X, y, accept_sparse, accept_large_sparse, dtype, order, copy, force_all_finite, ensure_2d, allow_nd, multi_output, ensure_min_samples, ensure_min_features, y_numeric, estimator)\u001b[0m\n\u001b[0;32m    869\u001b[0m         \u001b[1;32mraise\u001b[0m \u001b[0mValueError\u001b[0m\u001b[1;33m(\u001b[0m\u001b[1;34m\"y cannot be None\"\u001b[0m\u001b[1;33m)\u001b[0m\u001b[1;33m\u001b[0m\u001b[1;33m\u001b[0m\u001b[0m\n\u001b[0;32m    870\u001b[0m \u001b[1;33m\u001b[0m\u001b[0m\n\u001b[1;32m--> 871\u001b[1;33m     X = check_array(X, accept_sparse=accept_sparse,\n\u001b[0m\u001b[0;32m    872\u001b[0m                     \u001b[0maccept_large_sparse\u001b[0m\u001b[1;33m=\u001b[0m\u001b[0maccept_large_sparse\u001b[0m\u001b[1;33m,\u001b[0m\u001b[1;33m\u001b[0m\u001b[1;33m\u001b[0m\u001b[0m\n\u001b[0;32m    873\u001b[0m                     \u001b[0mdtype\u001b[0m\u001b[1;33m=\u001b[0m\u001b[0mdtype\u001b[0m\u001b[1;33m,\u001b[0m \u001b[0morder\u001b[0m\u001b[1;33m=\u001b[0m\u001b[0morder\u001b[0m\u001b[1;33m,\u001b[0m \u001b[0mcopy\u001b[0m\u001b[1;33m=\u001b[0m\u001b[0mcopy\u001b[0m\u001b[1;33m,\u001b[0m\u001b[1;33m\u001b[0m\u001b[1;33m\u001b[0m\u001b[0m\n",
      "\u001b[1;32mC:\\ProgramData\\Anaconda3\\lib\\site-packages\\sklearn\\utils\\validation.py\u001b[0m in \u001b[0;36minner_f\u001b[1;34m(*args, **kwargs)\u001b[0m\n\u001b[0;32m     61\u001b[0m             \u001b[0mextra_args\u001b[0m \u001b[1;33m=\u001b[0m \u001b[0mlen\u001b[0m\u001b[1;33m(\u001b[0m\u001b[0margs\u001b[0m\u001b[1;33m)\u001b[0m \u001b[1;33m-\u001b[0m \u001b[0mlen\u001b[0m\u001b[1;33m(\u001b[0m\u001b[0mall_args\u001b[0m\u001b[1;33m)\u001b[0m\u001b[1;33m\u001b[0m\u001b[1;33m\u001b[0m\u001b[0m\n\u001b[0;32m     62\u001b[0m             \u001b[1;32mif\u001b[0m \u001b[0mextra_args\u001b[0m \u001b[1;33m<=\u001b[0m \u001b[1;36m0\u001b[0m\u001b[1;33m:\u001b[0m\u001b[1;33m\u001b[0m\u001b[1;33m\u001b[0m\u001b[0m\n\u001b[1;32m---> 63\u001b[1;33m                 \u001b[1;32mreturn\u001b[0m \u001b[0mf\u001b[0m\u001b[1;33m(\u001b[0m\u001b[1;33m*\u001b[0m\u001b[0margs\u001b[0m\u001b[1;33m,\u001b[0m \u001b[1;33m**\u001b[0m\u001b[0mkwargs\u001b[0m\u001b[1;33m)\u001b[0m\u001b[1;33m\u001b[0m\u001b[1;33m\u001b[0m\u001b[0m\n\u001b[0m\u001b[0;32m     64\u001b[0m \u001b[1;33m\u001b[0m\u001b[0m\n\u001b[0;32m     65\u001b[0m             \u001b[1;31m# extra_args > 0\u001b[0m\u001b[1;33m\u001b[0m\u001b[1;33m\u001b[0m\u001b[0m\n",
      "\u001b[1;32mC:\\ProgramData\\Anaconda3\\lib\\site-packages\\sklearn\\utils\\validation.py\u001b[0m in \u001b[0;36mcheck_array\u001b[1;34m(array, accept_sparse, accept_large_sparse, dtype, order, copy, force_all_finite, ensure_2d, allow_nd, ensure_min_samples, ensure_min_features, estimator)\u001b[0m\n\u001b[0;32m    692\u001b[0m             \u001b[1;31m# If input is 1D raise error\u001b[0m\u001b[1;33m\u001b[0m\u001b[1;33m\u001b[0m\u001b[0m\n\u001b[0;32m    693\u001b[0m             \u001b[1;32mif\u001b[0m \u001b[0marray\u001b[0m\u001b[1;33m.\u001b[0m\u001b[0mndim\u001b[0m \u001b[1;33m==\u001b[0m \u001b[1;36m1\u001b[0m\u001b[1;33m:\u001b[0m\u001b[1;33m\u001b[0m\u001b[1;33m\u001b[0m\u001b[0m\n\u001b[1;32m--> 694\u001b[1;33m                 raise ValueError(\n\u001b[0m\u001b[0;32m    695\u001b[0m                     \u001b[1;34m\"Expected 2D array, got 1D array instead:\\narray={}.\\n\"\u001b[0m\u001b[1;33m\u001b[0m\u001b[1;33m\u001b[0m\u001b[0m\n\u001b[0;32m    696\u001b[0m                     \u001b[1;34m\"Reshape your data either using array.reshape(-1, 1) if \"\u001b[0m\u001b[1;33m\u001b[0m\u001b[1;33m\u001b[0m\u001b[0m\n",
      "\u001b[1;31mValueError\u001b[0m: Expected 2D array, got 1D array instead:\narray=[108.77 110.17 108.81 ...  99.02  99.08  99.48].\nReshape your data either using array.reshape(-1, 1) if your data has a single feature or array.reshape(1, -1) if it contains a single sample."
     ]
    }
   ],
   "source": [
    "reg = linear_model.LinearRegression()\n",
    "reg.fit(x,y)"
   ]
  },
  {
   "cell_type": "code",
   "execution_count": null,
   "id": "1e5afcde",
   "metadata": {},
   "outputs": [],
   "source": []
  }
 ],
 "metadata": {
  "kernelspec": {
   "display_name": "Python 3 (ipykernel)",
   "language": "python",
   "name": "python3"
  },
  "language_info": {
   "codemirror_mode": {
    "name": "ipython",
    "version": 3
   },
   "file_extension": ".py",
   "mimetype": "text/x-python",
   "name": "python",
   "nbconvert_exporter": "python",
   "pygments_lexer": "ipython3",
   "version": "3.9.7"
  }
 },
 "nbformat": 4,
 "nbformat_minor": 5
}
